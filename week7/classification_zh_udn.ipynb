{
 "cells": [
  {
   "attachments": {},
   "cell_type": "markdown",
   "metadata": {},
   "source": [
    "# 文件分類\n",
    "\n",
    "**Author:** 黃天原  \n",
    "本周課程為「文件分類」，主要使用文章轉DTM(document term matrix)的方式，將文章用不同的字詞分布表示，再利用python的sklearn套件，套用決策樹、logistic regression等方式訓練模型，以分辨不同的文件。本篇 Jupyter Notebook 將展示「中文」的文件分類，使用聯合新聞網的三個版別文章做示範。"
   ]
  },
  {
   "attachments": {},
   "cell_type": "markdown",
   "metadata": {},
   "source": [
    "## 分析目標\n",
    "+ 資料內容：\n",
    "    + 資料來源：聯合新聞網\n",
    "    + 版別：股市、運動、兩岸、全球\n",
    "\n",
    "* 分析主題：將聯合新聞網三個版別的文章合起來，訓練模型能預測新聞版別，再用分類模型進行文件的版別分類。\n",
    "\n",
    "* 以下為教學目標：\n",
    "    1. 如何將以數字向量代表一篇文章？\n",
    "        * `CountVectorizer`\n",
    "        * `TfidfVectorizer`\n",
    "    2. 基本的分類模型流程，包含以下三步驟：\n",
    "        * 前處理 (preprocess)\n",
    "        * 建模 (train model)\n",
    "        * 評估與預測 (evaluation and predict)\n",
    "    3. cross validation\n",
    "    4. 不同分類器的效果\n",
    "    5. 可解釋的可視化模型結果\n",
    "    6. 預測其他家新聞文章的版別"
   ]
  },
  {
   "attachments": {},
   "cell_type": "markdown",
   "metadata": {},
   "source": [
    "## 1. 套件說明\n",
    "下面列出在本次實作過程中我們所使用到的相關套件，在這個Jupyter Notebook當中我們將會簡單的展示這些套件的使用方式，關於各個套件的進階使用請同學參照其官網的說明。\n",
    "- **sklearn**: 全名為Scikit-learn，機器學習的常用建模套件，包含各種分群、分類、迴歸模型，如隨機森林、SVM或 K-means 等。\n",
    "- pandas: 一個資料分析的函式庫，提供了DataFrame等資料格式，與資料處理的函數。\n",
    "- jieba: 結巴套件，中文斷詞套件\n",
    "- seaborn: 基於 matplotlib 封裝的繪圖工具"
   ]
  },
  {
   "cell_type": "code",
   "execution_count": 1,
   "metadata": {},
   "outputs": [],
   "source": [
    "import re\n",
    "from pprint import pprint\n",
    "\n",
    "import pandas as pd\n",
    "import numpy as np\n",
    "import matplotlib.pyplot as plt\n",
    "import seaborn as sns\n",
    "import jieba\n",
    "from sklearn.model_selection import train_test_split, cross_validate, cross_val_predict, KFold\n",
    "from sklearn.metrics import (\n",
    "    confusion_matrix,\n",
    "    classification_report,\n",
    "    roc_curve,\n",
    "    auc,\n",
    "    precision_recall_curve,\n",
    "    RocCurveDisplay\n",
    ")\n",
    "from sklearn.feature_extraction.text import TfidfVectorizer, CountVectorizer\n",
    "from sklearn.preprocessing import LabelBinarizer\n",
    "from sklearn.linear_model import LogisticRegression\n",
    "from sklearn.naive_bayes import GaussianNB\n",
    "from sklearn.tree import DecisionTreeClassifier, plot_tree\n",
    "from sklearn.ensemble import RandomForestClassifier\n",
    "from sklearn import svm"
   ]
  },
  {
   "cell_type": "markdown",
   "metadata": {},
   "source": [
    "設定中文字體"
   ]
  },
  {
   "cell_type": "code",
   "execution_count": 2,
   "metadata": {},
   "outputs": [
    {
     "data": {
      "text/plain": [
       "Text(0.5, 1.0, '聲量圖')"
      ]
     },
     "execution_count": 2,
     "metadata": {},
     "output_type": "execute_result"
    },
    {
     "data": {
      "image/png": "[encoded data removed]",
      "text/plain": [
       "<Figure size 640x480 with 1 Axes>"
      ]
     },
     "metadata": {},
     "output_type": "display_data"
    }
   ],
   "source": [
    "# https://zhuanlan.zhihu.com/p/566430362\n",
    "# from matplotlib import font_manager\n",
    "# font_set = {f.name for f in font_manager.fontManager.ttflist}\n",
    "plt.rcParams['font.sans-serif']=['Microsoft JhengHei']\n",
    "plt.rcParams['axes.unicode_minus']=False\n",
    "plt.plot((1, 2, 3), (4, 3, -1))\n",
    "plt.title(\"聲量圖\")"
   ]
  },
  {
   "attachments": {},
   "cell_type": "markdown",
   "metadata": {},
   "source": [
    "## 2. 文字前處理\n",
    "`udn_news_202402.csv`裡面包含了要分析的 udn 新聞資料。\n",
    "- 版別：股市、全球、運動、兩岸\n",
    "- 時間範圍：2024/02/01 ~ 2024/02/29\n",
    "- 工作流程平台搜尋/排除關鍵字：無\n",
    "\n",
    "首先我們先看文集的基本資料，並做文集前處理。"
   ]
  },
  {
   "cell_type": "code",
   "execution_count": 4,
   "metadata": {
    "scrolled": true
   },
   "outputs": [
    {
     "data": {
      "text/html": [
       "<div>\n",
       "<style scoped>\n",
       "    .dataframe tbody tr th:only-of-type {\n",
       "        vertical-align: middle;\n",
       "    }\n",
       "\n",
       "    .dataframe tbody tr th {\n",
       "        vertical-align: top;\n",
       "    }\n",
       "\n",
       "    .dataframe thead th {\n",
       "        text-align: right;\n",
       "    }\n",
       "</style>\n",
       "<table border=\"1\" class=\"dataframe\">\n",
       "  <thead>\n",
       "    <tr style=\"text-align: right;\">\n",
       "      <th></th>\n",
       "      <th>ㄧㄠ</th>\n",
       "      <th>artTitle</th>\n",
       "      <th>artDate</th>\n",
       "      <th>artCatagory</th>\n",
       "      <th>artUrl</th>\n",
       "      <th>artContent</th>\n",
       "      <th>dataSource</th>\n",
       "    </tr>\n",
       "  </thead>\n",
       "  <tbody>\n",
       "    <tr>\n",
       "      <th>0</th>\n",
       "      <td>1</td>\n",
       "      <td>MLB／曾說「不是朋友」成真 大谷翔平解除追蹤水原一平</td>\n",
       "      <td>3/21/2024 9:56</td>\n",
       "      <td>運動</td>\n",
       "      <td>https://udn.com/news/story/11247/7845714</td>\n",
       "      <td>曾經是形影不離的戰友，大谷翔平與水原一平如今因金錢關係成為陌生人，大谷翔平的個人社群也解除對...</td>\n",
       "      <td>UDN</td>\n",
       "    </tr>\n",
       "    <tr>\n",
       "      <th>1</th>\n",
       "      <td>2</td>\n",
       "      <td>MLB／水原一平涉賭被解僱 日本網友震驚「巨大背叛」</td>\n",
       "      <td>3/21/2024 10:28</td>\n",
       "      <td>運動</td>\n",
       "      <td>https://udn.com/news/story/11247/7845808</td>\n",
       "      <td>日本棒球明星大谷翔平的翻譯水原一平傳出涉嫌竊取數百萬美元非法簽賭，已遭洛杉磯道奇解雇。大谷轉...</td>\n",
       "      <td>UDN</td>\n",
       "    </tr>\n",
       "    <tr>\n",
       "      <th>2</th>\n",
       "      <td>3</td>\n",
       "      <td>MLB／偷大谷翔平的錢還賭債！水原一平IG被球迷灌爆：你搞屁啊</td>\n",
       "      <td>3/21/2024 10:36</td>\n",
       "      <td>運動</td>\n",
       "      <td>https://udn.com/news/story/11247/7845856</td>\n",
       "      <td>美國職棒大聯盟（MLB）球星大谷翔平的隨行翻譯水原一平，因涉嫌竊取大谷至少450萬美元進行非...</td>\n",
       "      <td>UDN</td>\n",
       "    </tr>\n",
       "  </tbody>\n",
       "</table>\n",
       "</div>"
      ],
      "text/plain": [
       "   ㄧㄠ                         artTitle          artDate artCatagory  \\\n",
       "0   1      MLB／曾說「不是朋友」成真 大谷翔平解除追蹤水原一平   3/21/2024 9:56          運動   \n",
       "1   2       MLB／水原一平涉賭被解僱 日本網友震驚「巨大背叛」  3/21/2024 10:28          運動   \n",
       "2   3  MLB／偷大谷翔平的錢還賭債！水原一平IG被球迷灌爆：你搞屁啊  3/21/2024 10:36          運動   \n",
       "\n",
       "                                     artUrl  \\\n",
       "0  https://udn.com/news/story/11247/7845714   \n",
       "1  https://udn.com/news/story/11247/7845808   \n",
       "2  https://udn.com/news/story/11247/7845856   \n",
       "\n",
       "                                          artContent dataSource  \n",
       "0  曾經是形影不離的戰友，大谷翔平與水原一平如今因金錢關係成為陌生人，大谷翔平的個人社群也解除對...        UDN  \n",
       "1  日本棒球明星大谷翔平的翻譯水原一平傳出涉嫌竊取數百萬美元非法簽賭，已遭洛杉磯道奇解雇。大谷轉...        UDN  \n",
       "2  美國職棒大聯盟（MLB）球星大谷翔平的隨行翻譯水原一平，因涉嫌竊取大谷至少450萬美元進行非...        UDN  "
      ]
     },
     "execution_count": 4,
     "metadata": {},
     "output_type": "execute_result"
    }
   ],
   "source": [
    "udn = pd.read_csv(\"raw_data/group3_train.csv\")  # 匯資料\n",
    "udn.head(3)"
   ]
  },
  {
   "cell_type": "code",
   "execution_count": 5,
   "metadata": {},
   "outputs": [
    {
     "name": "stdout",
     "output_type": "stream",
     "text": [
      "number of posts: 8165\n",
      "date range: ('2/19/2024 0:46', '3/9/2024 9:39')\n",
      "category: \n",
      "股市    3564\n",
      "兩岸    2548\n",
      "運動    2053\n",
      "Name: artCatagory, dtype: int64\n"
     ]
    }
   ],
   "source": [
    "# 看看有幾篇文章\n",
    "print(f\"number of posts: {udn.shape[0]}\")\n",
    "print(f\"date range: {(udn['artDate'].min(), udn['artDate'].max())}\")\n",
    "print(f\"category: \\n{udn['artCatagory'].value_counts()}\")"
   ]
  },
  {
   "attachments": {},
   "cell_type": "markdown",
   "metadata": {},
   "source": [
    "+ 2.1 斷句\n",
    "+ 2.2 斷詞（刪掉次數太少的、標點符號、停用字）"
   ]
  },
  {
   "attachments": {},
   "cell_type": "markdown",
   "metadata": {},
   "source": [
    "### 2.1 清理"
   ]
  },
  {
   "cell_type": "markdown",
   "metadata": {},
   "source": [
    "利用問號、句號或驚嘆號等符號斷句，或是如果出現中文或是英文的省略號，像是`...`也會斷句，最後設定會去除結尾的空白符號。"
   ]
  },
  {
   "cell_type": "code",
   "execution_count": 6,
   "metadata": {},
   "outputs": [
    {
     "data": {
      "text/html": [
       "<div>\n",
       "<style scoped>\n",
       "    .dataframe tbody tr th:only-of-type {\n",
       "        vertical-align: middle;\n",
       "    }\n",
       "\n",
       "    .dataframe tbody tr th {\n",
       "        vertical-align: top;\n",
       "    }\n",
       "\n",
       "    .dataframe thead th {\n",
       "        text-align: right;\n",
       "    }\n",
       "</style>\n",
       "<table border=\"1\" class=\"dataframe\">\n",
       "  <thead>\n",
       "    <tr style=\"text-align: right;\">\n",
       "      <th></th>\n",
       "      <th>ㄧㄠ</th>\n",
       "      <th>artTitle</th>\n",
       "      <th>artDate</th>\n",
       "      <th>artCatagory</th>\n",
       "      <th>artUrl</th>\n",
       "      <th>artContent</th>\n",
       "      <th>dataSource</th>\n",
       "    </tr>\n",
       "  </thead>\n",
       "  <tbody>\n",
       "    <tr>\n",
       "      <th>0</th>\n",
       "      <td>1</td>\n",
       "      <td>曾說不是朋友成真大谷翔平解除追蹤水原一平</td>\n",
       "      <td>3/21/2024 9:56</td>\n",
       "      <td>運動</td>\n",
       "      <td>https://udn.com/news/story/11247/7845714</td>\n",
       "      <td>曾經是形影不離的戰友大谷翔平與水原一平如今因金錢關係成為陌生人大谷翔平的個人社群也解除對水原...</td>\n",
       "      <td>UDN</td>\n",
       "    </tr>\n",
       "    <tr>\n",
       "      <th>1</th>\n",
       "      <td>2</td>\n",
       "      <td>水原一平涉賭被解僱日本網友震驚巨大背叛</td>\n",
       "      <td>3/21/2024 10:28</td>\n",
       "      <td>運動</td>\n",
       "      <td>https://udn.com/news/story/11247/7845808</td>\n",
       "      <td>日本棒球明星大谷翔平的翻譯水原一平傳出涉嫌竊取數百萬美元非法簽賭已遭洛杉磯道奇解雇大谷轉戰美...</td>\n",
       "      <td>UDN</td>\n",
       "    </tr>\n",
       "    <tr>\n",
       "      <th>2</th>\n",
       "      <td>3</td>\n",
       "      <td>偷大谷翔平的錢還賭債水原一平被球迷灌爆你搞屁啊</td>\n",
       "      <td>3/21/2024 10:36</td>\n",
       "      <td>運動</td>\n",
       "      <td>https://udn.com/news/story/11247/7845856</td>\n",
       "      <td>美國職棒大聯盟球星大谷翔平的隨行翻譯水原一平因涉嫌竊取大谷至少萬美元進行非法賭博遭到道奇隊開...</td>\n",
       "      <td>UDN</td>\n",
       "    </tr>\n",
       "  </tbody>\n",
       "</table>\n",
       "</div>"
      ],
      "text/plain": [
       "   ㄧㄠ                 artTitle          artDate artCatagory  \\\n",
       "0   1     曾說不是朋友成真大谷翔平解除追蹤水原一平   3/21/2024 9:56          運動   \n",
       "1   2      水原一平涉賭被解僱日本網友震驚巨大背叛  3/21/2024 10:28          運動   \n",
       "2   3  偷大谷翔平的錢還賭債水原一平被球迷灌爆你搞屁啊  3/21/2024 10:36          運動   \n",
       "\n",
       "                                     artUrl  \\\n",
       "0  https://udn.com/news/story/11247/7845714   \n",
       "1  https://udn.com/news/story/11247/7845808   \n",
       "2  https://udn.com/news/story/11247/7845856   \n",
       "\n",
       "                                          artContent dataSource  \n",
       "0  曾經是形影不離的戰友大谷翔平與水原一平如今因金錢關係成為陌生人大谷翔平的個人社群也解除對水原...        UDN  \n",
       "1  日本棒球明星大谷翔平的翻譯水原一平傳出涉嫌竊取數百萬美元非法簽賭已遭洛杉磯道奇解雇大谷轉戰美...        UDN  \n",
       "2  美國職棒大聯盟球星大谷翔平的隨行翻譯水原一平因涉嫌竊取大谷至少萬美元進行非法賭博遭到道奇隊開...        UDN  "
      ]
     },
     "execution_count": 6,
     "metadata": {},
     "output_type": "execute_result"
    }
   ],
   "source": [
    "# 過濾 nan 的資料\n",
    "udn = udn.dropna(subset=['artTitle'])\n",
    "udn = udn.dropna(subset=['artContent'])\n",
    "# 移除網址格式\n",
    "udn[\"artContent\"] = udn.artContent.apply(\n",
    "    lambda x: re.sub(\"(http|https)://.*\", \"\", x)\n",
    ")\n",
    "udn[\"artTitle\"] = udn[\"artTitle\"].apply(\n",
    "    lambda x: re.sub(\"(http|https)://.*\", \"\", x)\n",
    ")\n",
    "# 只留下中文字\n",
    "udn[\"artContent\"] = udn.artContent.apply(\n",
    "    lambda x: re.sub(\"[^\\u4e00-\\u9fa5]+\", \"\", x)\n",
    ")\n",
    "udn[\"artTitle\"] = udn[\"artTitle\"].apply(\n",
    "    lambda x: re.sub(\"[^\\u4e00-\\u9fa5]+\", \"\", x)\n",
    ")\n",
    "udn.head(3)"
   ]
  },
  {
   "cell_type": "markdown",
   "metadata": {},
   "source": [
    "文章的標題`artTitle`和內文`sentence`都會納入分析的內容，成為新的`content`欄位。"
   ]
  },
  {
   "cell_type": "code",
   "execution_count": 7,
   "metadata": {},
   "outputs": [
    {
     "data": {
      "text/html": [
       "<div>\n",
       "<style scoped>\n",
       "    .dataframe tbody tr th:only-of-type {\n",
       "        vertical-align: middle;\n",
       "    }\n",
       "\n",
       "    .dataframe tbody tr th {\n",
       "        vertical-align: top;\n",
       "    }\n",
       "\n",
       "    .dataframe thead th {\n",
       "        text-align: right;\n",
       "    }\n",
       "</style>\n",
       "<table border=\"1\" class=\"dataframe\">\n",
       "  <thead>\n",
       "    <tr style=\"text-align: right;\">\n",
       "      <th></th>\n",
       "      <th>content</th>\n",
       "      <th>artUrl</th>\n",
       "      <th>artCatagory</th>\n",
       "    </tr>\n",
       "  </thead>\n",
       "  <tbody>\n",
       "    <tr>\n",
       "      <th>0</th>\n",
       "      <td>曾說不是朋友成真大谷翔平解除追蹤水原一平曾經是形影不離的戰友大谷翔平與水原一平如今因金錢關係...</td>\n",
       "      <td>https://udn.com/news/story/11247/7845714</td>\n",
       "      <td>運動</td>\n",
       "    </tr>\n",
       "    <tr>\n",
       "      <th>1</th>\n",
       "      <td>水原一平涉賭被解僱日本網友震驚巨大背叛日本棒球明星大谷翔平的翻譯水原一平傳出涉嫌竊取數百萬美...</td>\n",
       "      <td>https://udn.com/news/story/11247/7845808</td>\n",
       "      <td>運動</td>\n",
       "    </tr>\n",
       "    <tr>\n",
       "      <th>2</th>\n",
       "      <td>偷大谷翔平的錢還賭債水原一平被球迷灌爆你搞屁啊美國職棒大聯盟球星大谷翔平的隨行翻譯水原一平因...</td>\n",
       "      <td>https://udn.com/news/story/11247/7845856</td>\n",
       "      <td>運動</td>\n",
       "    </tr>\n",
       "    <tr>\n",
       "      <th>3</th>\n",
       "      <td>國內球評看水原一平醜聞形容比大谷結婚令人震撼道奇教士隊在南韓首爾進行新球季第場比賽前大谷翔平...</td>\n",
       "      <td>https://udn.com/news/story/11247/7845919</td>\n",
       "      <td>運動</td>\n",
       "    </tr>\n",
       "    <tr>\n",
       "      <th>4</th>\n",
       "      <td>大谷翔平恐受牽連水原一平稱他曾代為轉帳償還賭債後才改口美國職棒大聯盟明星大谷翔平的翻譯水原一...</td>\n",
       "      <td>https://udn.com/news/story/11247/7846177</td>\n",
       "      <td>運動</td>\n",
       "    </tr>\n",
       "  </tbody>\n",
       "</table>\n",
       "</div>"
      ],
      "text/plain": [
       "                                             content  \\\n",
       "0  曾說不是朋友成真大谷翔平解除追蹤水原一平曾經是形影不離的戰友大谷翔平與水原一平如今因金錢關係...   \n",
       "1  水原一平涉賭被解僱日本網友震驚巨大背叛日本棒球明星大谷翔平的翻譯水原一平傳出涉嫌竊取數百萬美...   \n",
       "2  偷大谷翔平的錢還賭債水原一平被球迷灌爆你搞屁啊美國職棒大聯盟球星大谷翔平的隨行翻譯水原一平因...   \n",
       "3  國內球評看水原一平醜聞形容比大谷結婚令人震撼道奇教士隊在南韓首爾進行新球季第場比賽前大谷翔平...   \n",
       "4  大谷翔平恐受牽連水原一平稱他曾代為轉帳償還賭債後才改口美國職棒大聯盟明星大谷翔平的翻譯水原一...   \n",
       "\n",
       "                                     artUrl artCatagory  \n",
       "0  https://udn.com/news/story/11247/7845714          運動  \n",
       "1  https://udn.com/news/story/11247/7845808          運動  \n",
       "2  https://udn.com/news/story/11247/7845856          運動  \n",
       "3  https://udn.com/news/story/11247/7845919          運動  \n",
       "4  https://udn.com/news/story/11247/7846177          運動  "
      ]
     },
     "execution_count": 7,
     "metadata": {},
     "output_type": "execute_result"
    }
   ],
   "source": [
    "# 留下 content\n",
    "udn[\"content\"] = udn[\"artTitle\"] + udn[\"artContent\"]\n",
    "udn = udn[[\"content\", \"artUrl\", \"artCatagory\"]]  # 文章內容 文章連結\n",
    "udn.head()"
   ]
  },
  {
   "cell_type": "code",
   "execution_count": 89,
   "metadata": {
    "scrolled": true
   },
   "outputs": [
    {
     "name": "stdout",
     "output_type": "stream",
     "text": [
      "total docs: 8165\n"
     ]
    }
   ],
   "source": [
    "# 看看有幾篇文章\n",
    "print(f\"total docs: {udn.shape[0]}\")\n"
   ]
  },
  {
   "attachments": {},
   "cell_type": "markdown",
   "metadata": {},
   "source": [
    "### 2.2 斷詞"
   ]
  },
  {
   "cell_type": "code",
   "execution_count": 8,
   "metadata": {},
   "outputs": [],
   "source": [
    "# 設定繁體中文詞庫\n",
    "jieba.set_dictionary(\"./dict/dict.txt.big\")\n",
    "\n",
    "# 新增stopwords\n",
    "# jieba.analyse.set_stop_words('./dict/stop_words.txt') #jieba.analyse.extract_tags才會作用\n",
    "with open(\"./dict/stop_words.txt\", encoding=\"utf-8\") as f:\n",
    "    stopWords = [line.strip() for line in f.readlines()]"
   ]
  },
  {
   "cell_type": "code",
   "execution_count": 9,
   "metadata": {},
   "outputs": [],
   "source": [
    "# 設定斷詞 function\n",
    "def getToken(row):\n",
    "    seg_list = jieba.cut(row, cut_all=False)\n",
    "    seg_list = [\n",
    "        w for w in seg_list if w not in stopWords and len(w) > 1\n",
    "    ]  # 篩選掉停用字與字元數大於1的詞彙\n",
    "    return seg_list"
   ]
  },
  {
   "cell_type": "code",
   "execution_count": 10,
   "metadata": {},
   "outputs": [
    {
     "name": "stderr",
     "output_type": "stream",
     "text": [
      "Building prefix dict from c:\\Users\\USER\\Desktop\\final_scribble\\SMA\\week7\\dict\\dict.txt.big ...\n",
      "Loading model from cache C:\\Users\\USER\\AppData\\Local\\Temp\\jieba.ub5262a87d759ee9d0e154d1fa206fecd.cache\n",
      "Loading model cost 0.733 seconds.\n",
      "Prefix dict has been built successfully.\n"
     ]
    },
    {
     "data": {
      "text/html": [
       "<div>\n",
       "<style scoped>\n",
       "    .dataframe tbody tr th:only-of-type {\n",
       "        vertical-align: middle;\n",
       "    }\n",
       "\n",
       "    .dataframe tbody tr th {\n",
       "        vertical-align: top;\n",
       "    }\n",
       "\n",
       "    .dataframe thead th {\n",
       "        text-align: right;\n",
       "    }\n",
       "</style>\n",
       "<table border=\"1\" class=\"dataframe\">\n",
       "  <thead>\n",
       "    <tr style=\"text-align: right;\">\n",
       "      <th></th>\n",
       "      <th>content</th>\n",
       "      <th>artUrl</th>\n",
       "      <th>artCatagory</th>\n",
       "      <th>words</th>\n",
       "    </tr>\n",
       "  </thead>\n",
       "  <tbody>\n",
       "    <tr>\n",
       "      <th>0</th>\n",
       "      <td>曾說不是朋友成真大谷翔平解除追蹤水原一平曾經是形影不離的戰友大谷翔平與水原一平如今因金錢關係...</td>\n",
       "      <td>https://udn.com/news/story/11247/7845714</td>\n",
       "      <td>運動</td>\n",
       "      <td>朋友 大谷 翔平 解除 追蹤 水原 一平 曾經 形影不離 戰友 大谷 翔平 水原 一平 金錢...</td>\n",
       "    </tr>\n",
       "    <tr>\n",
       "      <th>1</th>\n",
       "      <td>水原一平涉賭被解僱日本網友震驚巨大背叛日本棒球明星大谷翔平的翻譯水原一平傳出涉嫌竊取數百萬美...</td>\n",
       "      <td>https://udn.com/news/story/11247/7845808</td>\n",
       "      <td>運動</td>\n",
       "      <td>水原 一平 涉賭 解僱 日本 網友 震驚 巨大 背叛 日本 棒球 明星 大谷 翔平 翻譯 水...</td>\n",
       "    </tr>\n",
       "    <tr>\n",
       "      <th>2</th>\n",
       "      <td>偷大谷翔平的錢還賭債水原一平被球迷灌爆你搞屁啊美國職棒大聯盟球星大谷翔平的隨行翻譯水原一平因...</td>\n",
       "      <td>https://udn.com/news/story/11247/7845856</td>\n",
       "      <td>運動</td>\n",
       "      <td>大谷 翔平 錢還 賭債 水原 一平 球迷 灌爆 美國 職棒 聯盟 球星 大谷 翔平 隨行 翻...</td>\n",
       "    </tr>\n",
       "    <tr>\n",
       "      <th>3</th>\n",
       "      <td>國內球評看水原一平醜聞形容比大谷結婚令人震撼道奇教士隊在南韓首爾進行新球季第場比賽前大谷翔平...</td>\n",
       "      <td>https://udn.com/news/story/11247/7845919</td>\n",
       "      <td>運動</td>\n",
       "      <td>國內 球評 水原 一平 醜聞 形容 大谷 結婚 令人 震撼 道奇 教士 南韓 首爾 進行 球...</td>\n",
       "    </tr>\n",
       "    <tr>\n",
       "      <th>4</th>\n",
       "      <td>大谷翔平恐受牽連水原一平稱他曾代為轉帳償還賭債後才改口美國職棒大聯盟明星大谷翔平的翻譯水原一...</td>\n",
       "      <td>https://udn.com/news/story/11247/7846177</td>\n",
       "      <td>運動</td>\n",
       "      <td>大谷 翔平 恐受 牽連 水原 一平稱 曾代為 轉帳 償還 賭債 改口 美國 職棒 聯盟 明星...</td>\n",
       "    </tr>\n",
       "  </tbody>\n",
       "</table>\n",
       "</div>"
      ],
      "text/plain": [
       "                                             content  \\\n",
       "0  曾說不是朋友成真大谷翔平解除追蹤水原一平曾經是形影不離的戰友大谷翔平與水原一平如今因金錢關係...   \n",
       "1  水原一平涉賭被解僱日本網友震驚巨大背叛日本棒球明星大谷翔平的翻譯水原一平傳出涉嫌竊取數百萬美...   \n",
       "2  偷大谷翔平的錢還賭債水原一平被球迷灌爆你搞屁啊美國職棒大聯盟球星大谷翔平的隨行翻譯水原一平因...   \n",
       "3  國內球評看水原一平醜聞形容比大谷結婚令人震撼道奇教士隊在南韓首爾進行新球季第場比賽前大谷翔平...   \n",
       "4  大谷翔平恐受牽連水原一平稱他曾代為轉帳償還賭債後才改口美國職棒大聯盟明星大谷翔平的翻譯水原一...   \n",
       "\n",
       "                                     artUrl artCatagory  \\\n",
       "0  https://udn.com/news/story/11247/7845714          運動   \n",
       "1  https://udn.com/news/story/11247/7845808          運動   \n",
       "2  https://udn.com/news/story/11247/7845856          運動   \n",
       "3  https://udn.com/news/story/11247/7845919          運動   \n",
       "4  https://udn.com/news/story/11247/7846177          運動   \n",
       "\n",
       "                                               words  \n",
       "0  朋友 大谷 翔平 解除 追蹤 水原 一平 曾經 形影不離 戰友 大谷 翔平 水原 一平 金錢...  \n",
       "1  水原 一平 涉賭 解僱 日本 網友 震驚 巨大 背叛 日本 棒球 明星 大谷 翔平 翻譯 水...  \n",
       "2  大谷 翔平 錢還 賭債 水原 一平 球迷 灌爆 美國 職棒 聯盟 球星 大谷 翔平 隨行 翻...  \n",
       "3  國內 球評 水原 一平 醜聞 形容 大谷 結婚 令人 震撼 道奇 教士 南韓 首爾 進行 球...  \n",
       "4  大谷 翔平 恐受 牽連 水原 一平稱 曾代為 轉帳 償還 賭債 改口 美國 職棒 聯盟 明星...  "
      ]
     },
     "execution_count": 10,
     "metadata": {},
     "output_type": "execute_result"
    }
   ],
   "source": [
    "udn[\"words\"] = udn[\"content\"].apply(getToken).map(\" \".join)\n",
    "udn.head()"
   ]
  },
  {
   "attachments": {},
   "cell_type": "markdown",
   "metadata": {},
   "source": [
    "### 2.3 資料集基本檢視"
   ]
  },
  {
   "cell_type": "markdown",
   "metadata": {},
   "source": [
    "檢視資料內容"
   ]
  },
  {
   "cell_type": "code",
   "execution_count": 93,
   "metadata": {},
   "outputs": [
    {
     "name": "stdout",
     "output_type": "stream",
     "text": [
      "total posts: 8165\n",
      "category: \n",
      "artCatagory\n",
      "股市    3564\n",
      "兩岸    2548\n",
      "運動    2053\n",
      "Name: count, dtype: int64\n"
     ]
    }
   ],
   "source": [
    "print(f\"total posts: {len(udn['artUrl'].unique())}\")\n",
    "print(f\"category: \\n{udn['artCatagory'].value_counts()}\")\n"
   ]
  },
  {
   "attachments": {},
   "cell_type": "markdown",
   "metadata": {},
   "source": [
    "## 3. 分類模型的訓練流程\n",
    "### 3.1 根據7:3的比例切分資料集\n",
    "利用 sklearn 中的 train_test_split 函數將 `raw_data` 隨機切成 7:3，設置 random_state 讓每次切分的結果一致。`y_train`和`y_test`分別為訓練資料和測試資料的預測目標。"
   ]
  },
  {
   "cell_type": "code",
   "execution_count": 98,
   "metadata": {},
   "outputs": [
    {
     "name": "stdout",
     "output_type": "stream",
     "text": [
      "1484    林俊吉 攻下 分率 夢想家 勇奪 連勝 台灣 職籃 福爾摩沙 夢想家 今天 本土 後衛 林俊...\n",
      "5725    狼來了 大使 盧沙野談 外交 中國 韜光養晦 外媒 形容 外交 戰狼 中國 大陸 駐法 大使...\n",
      "7066    下個 破產 造車 勢力 高合 汽車 停工 停產 半年 鎖定 高端 車款 大陸 造車 勢力 高...\n",
      "5095    藥局 股股 諾貝 掛牌 首日 股價 飆漲 二成 諾貝 今日 每股 上櫃 早盤 股價 飆高 來...\n",
      "5155    興櫃 美麗 酒店 重訊 公布 股票 自月 日起 暫停 交易 興櫃 公司 美麗 酒店 因有 重...\n",
      "Name: words, dtype: object\n",
      "1484    運動\n",
      "5725    兩岸\n",
      "7066    兩岸\n",
      "5095    股市\n",
      "5155    股市\n",
      "Name: artCatagory, dtype: object\n"
     ]
    }
   ],
   "source": [
    "data = udn\n",
    "X = data[\"words\"]\n",
    "y = data[\"artCatagory\"]\n",
    "\n",
    "# 把整個資料集七三切\n",
    "X_train, X_test, y_train, y_test = train_test_split(\n",
    "    X, y, test_size=0.3, random_state=777\n",
    ")\n",
    "\n",
    "print(X_train.head())\n",
    "print(y_train.head())"
   ]
  },
  {
   "cell_type": "code",
   "execution_count": 99,
   "metadata": {},
   "outputs": [
    {
     "name": "stdout",
     "output_type": "stream",
     "text": [
      "raw data percentage :\n",
      "artCatagory\n",
      "股市    43.649724\n",
      "兩岸    31.206369\n",
      "運動    25.143907\n",
      "Name: proportion, dtype: float64\n",
      "\n",
      "train percentage :\n",
      "artCatagory\n",
      "股市    43.517060\n",
      "兩岸    31.321085\n",
      "運動    25.161855\n",
      "Name: proportion, dtype: float64\n",
      "\n",
      "test percentage :\n",
      "artCatagory\n",
      "股市    43.959184\n",
      "兩岸    30.938776\n",
      "運動    25.102041\n",
      "Name: proportion, dtype: float64\n"
     ]
    }
   ],
   "source": [
    "# 看一下各個資料集切分的比例，應該要一致\n",
    "print(\n",
    "    f\"raw data percentage :\\n{data['artCatagory'].value_counts(normalize=True) * 100}\"\n",
    ")\n",
    "print(f\"\\ntrain percentage :\\n{y_train.value_counts(normalize=True) * 100}\")\n",
    "print(f\"\\ntest percentage :\\n{y_test.value_counts(normalize=True) * 100}\")"
   ]
  },
  {
   "attachments": {},
   "cell_type": "markdown",
   "metadata": {},
   "source": [
    "### 3.2 將文章轉為 DTM\n",
    "\n",
    "DTM(document term matrix) :\n",
    "+ 將不同的文章 (document) 以文章中出現過的字詞(term)表示\n",
    "    + row 是document (文件)\n",
    "    + column 是字詞 (term)\n",
    "    + row 內的數字是出現的字數\n",
    "\n",
    "DTM裡面的值可以有不同的表示方法\n",
    "+ (1) 依據詞頻 (classic BoW)\n",
    "    + 用 `CountVectorizer()`\n",
    "    + unigrams and bigrams\n",
    "    + [sklearn.feature_extraction.text.CountVectorizer](https://scikit-learn.org/stable/modules/generated/sklearn.feature_extraction.text.CountVectorizer.html)\n",
    "+ (2) 依據tfidf (advanced variant of BoW)\n",
    "    + 篩選出現次數大於10的字\n",
    "    + 用 `TfidfVectorizer()`\n",
    "    + [sklearn.feature_extraction.text.TfidfVectorizer](https://scikit-learn.org/stable/modules/generated/sklearn.feature_extraction.text.CountVectorizer.html)\n",
    "+ 常用參數介紹\n",
    "    + max_features: 取 詞頻 / tfidf 前多少的字"
   ]
  },
  {
   "attachments": {},
   "cell_type": "markdown",
   "metadata": {},
   "source": [
    "### 3.3 套入正式的資料集\n",
    "+  模型訓練範例: logistic regression + cv tokenizer"
   ]
  },
  {
   "cell_type": "code",
   "execution_count": 100,
   "metadata": {},
   "outputs": [
    {
     "name": "stdout",
     "output_type": "stream",
     "text": [
      "CountVectorizer(max_features=1000)\n"
     ]
    }
   ],
   "source": [
    "vectorizer = CountVectorizer(max_features=1000)\n",
    "print(vectorizer)"
   ]
  },
  {
   "cell_type": "code",
   "execution_count": 101,
   "metadata": {},
   "outputs": [
    {
     "data": {
      "text/plain": [
       "1484    林俊吉 攻下 分率 夢想家 勇奪 連勝 台灣 職籃 福爾摩沙 夢想家 今天 本土 後衛 林俊...\n",
       "5725    狼來了 大使 盧沙野談 外交 中國 韜光養晦 外媒 形容 外交 戰狼 中國 大陸 駐法 大使...\n",
       "7066    下個 破產 造車 勢力 高合 汽車 停工 停產 半年 鎖定 高端 車款 大陸 造車 勢力 高...\n",
       "5095    藥局 股股 諾貝 掛牌 首日 股價 飆漲 二成 諾貝 今日 每股 上櫃 早盤 股價 飆高 來...\n",
       "5155    興櫃 美麗 酒店 重訊 公布 股票 自月 日起 暫停 交易 興櫃 公司 美麗 酒店 因有 重...\n",
       "Name: words, dtype: object"
      ]
     },
     "execution_count": 101,
     "metadata": {},
     "output_type": "execute_result"
    }
   ],
   "source": [
    "X_train.head()"
   ]
  },
  {
   "cell_type": "code",
   "execution_count": 102,
   "metadata": {},
   "outputs": [
    {
     "data": {
      "text/plain": [
       "<5715x1000 sparse matrix of type '<class 'numpy.int64'>'\n",
       "\twith 321549 stored elements in Compressed Sparse Row format>"
      ]
     },
     "execution_count": 102,
     "metadata": {},
     "output_type": "execute_result"
    }
   ],
   "source": [
    "vectorizer.fit(X_train)\n",
    "vec_train = vectorizer.transform(X_train)\n",
    "vec_train"
   ]
  },
  {
   "cell_type": "code",
   "execution_count": 103,
   "metadata": {},
   "outputs": [
    {
     "data": {
      "text/plain": [
       "array([[0, 0, 0, ..., 0, 0, 1],\n",
       "       [0, 0, 0, ..., 0, 0, 0],\n",
       "       [0, 0, 0, ..., 0, 0, 0],\n",
       "       ...,\n",
       "       [0, 1, 0, ..., 0, 0, 0],\n",
       "       [1, 0, 0, ..., 0, 0, 0],\n",
       "       [3, 0, 0, ..., 0, 0, 0]], dtype=int64)"
      ]
     },
     "execution_count": 103,
     "metadata": {},
     "output_type": "execute_result"
    }
   ],
   "source": [
    "### 用 `toarray()` 轉成 numpy array\n",
    "vec_train.toarray()"
   ]
  },
  {
   "cell_type": "code",
   "execution_count": 104,
   "metadata": {},
   "outputs": [
    {
     "name": "stdout",
     "output_type": "stream",
     "text": [
      "['一些' '一名' '一場' '一定' '一平' '一年' '一度' '一次' '一直' '一起']\n"
     ]
    }
   ],
   "source": [
    "# 可用 `fit_transform()` 一次完成\n",
    "vec_train = vectorizer.fit_transform(X_train)\n",
    "print(vectorizer.get_feature_names_out()[:10])\n"
   ]
  },
  {
   "cell_type": "code",
   "execution_count": 105,
   "metadata": {},
   "outputs": [
    {
     "name": "stdout",
     "output_type": "stream",
     "text": [
      "{'攻下': 475, '連勝': 901, '台灣': 206, '今天': 69, '擊敗': 459, '桃園': 558, '拿下': 425, '近期': 886, '持續': 428, '龍頭': 999, '主場': 45, '主力': 44, '建立': 365, '領先': 978, '挹注': 434, '結束': 740, '形成': 376, '團隊': 249, '發揮': 673, '再度': 137, '並未': 33, '一度': 6, '尤其': 328, '終場': 736, '雙方': 961, '差距': 341, '總教練': 755, '得分': 382, '關鍵': 948, '最後': 531, '勝利': 170, '針對': 934, '布局': 347, '賽後': 868, '接受': 442, '訪問': 837, '透露': 890, '當時': 668, '希望': 348, '空間': 714, '球員': 643, '比較': 588, '情況': 390, '成功': 401, '指出': 430, '看到': 694, '努力': 167, '展現': 331, '防守': 949, '做好': 97, '相信': 690, '機會': 572, '很大': 379, '中國': 36, '大陸': 283, '委員': 290, '近日': 885, '回到': 238, '北京': 175, '出席': 141, '兩會': 127, '領域': 979, '最新': 533, '意見': 393, '方向': 503, '表示': 817, '能夠': 784, '過去': 908, '成為': 404, '旗下': 509, '媒體': 292, '上述': 23, '國家': 245, '擴大': 463, '國際': 248, '影響': 378, '積極': 710, '參與': 193, '全球': 120, '包含': 173, '關係': 946, '現在': 640, '強調': 374, '面對': 970, '壓力': 268, '觀察': 826, '發生': 677, '官員': 304, '之間': 52, '合作': 210, '地方': 251, '文化': 494, '經濟': 744, '政治': 478, '法國': 601, '歐盟': 577, '帶動': 350, '歐洲': 576, '健康': 99, '發展': 671, '汽車': 599, '昨日': 519, '召開': 202, '內部': 116, '大會': 278, '宣布': 309, '此前': 581, '傳出': 100, '取消': 197, '消息': 608, '電動車': 963, '狀態': 635, '外界': 270, '新聞報導': 499, '人士': 64, '方面': 506, '之前': 49, '發放': 674, '員工': 226, '之後': 51, '上海': 20, '將在': 318, '月底': 538, '報導': 261, '生產': 654, '經營': 745, '實際': 315, '公司': 128, '正在': 578, '採取': 440, '調整': 846, '措施': 449, '挑戰': 433, '不斷': 30, '去年': 190, '當地': 666, '網友': 752, '智慧': 526, '品牌': 225, '發布': 672, '打造': 415, '規模': 824, '有限公司': 543, '總經理': 758, '集團': 960, '擁有': 458, '經驗': 747, '目前': 685, '大型': 274, '上市': 19, '人民幣': 68, '萬元': 797, '公布': 130, '分別': 147, '處於': 806, '突破': 715, '掛牌': 439, '股價': 777, '今日': 71, '每股': 586, '早盤': 512, '來到': 82, '漲幅': 623, '震盪': 968, '法人': 600, '社會': 705, '民眾': 591, '需求': 966, '投資': 420, '陸續': 955, '進入': 904, '資本': 858, '市場': 346, '預計': 977, '可望': 203, '提前': 453, '達到': 911, '業者': 564, '提升': 454, '獲利': 637, '表現': 816, '董事長': 804, '推動': 446, '透過': 889, '增加': 266, '促進': 89, '消費者': 610, '也將': 53, '產品': 656, '服務': 545, '重要': 927, '營收': 631, '動能': 169, '關注': 947, '焦點': 629, '統計': 743, '臺灣': 790, '以上': 73, '提供': 450, '銷售': 936, '滿足': 621, '股票': 782, '交易': 60, '重大': 925, '櫃買': 574, '中心': 38, '公告': 129, '今年': 70, '訊息': 832, '申請': 660, '恢復': 387, '創新': 159, '下跌': 27, '包括': 174, '群益': 765, '高息': 991, '台股': 209, '更是': 528, '收盤價': 472, '新高': 502, '策略': 723, '優勢': 107, '進行': 906, '配息': 921, '填息': 264, '投資人': 421, '掌握': 436, '管理': 724, '高於': 992, '一年': 5, '平均': 354, '投入': 418, '了解': 54, '追蹤': 887, '指數': 431, '市值': 345, '標的': 569, '優化': 108, '完整': 303, '企業': 77, '具備': 135, '能力': 783, '個股': 96, '進一步': 903, '分配': 150, '結合': 739, '收益': 470, '制度': 155, '穩定': 713, '基金': 258, '經理人': 746, '美國': 763, '總統': 757, '生產力': 655, '穩健': 712, '成長': 407, '維持': 750, '增長': 267, '逐步': 891, '協助': 179, '科技': 707, '景氣': 524, '向上': 219, '受惠': 200, '出口': 140, '回升': 239, '至少': 789, '延續': 364, '趨勢': 876, '後市': 380, '資金': 864, '庫存': 362, '行情': 812, '資料': 857, '來源': 83, '永豐': 595, '除息': 953, '投信': 417, '股息': 780, '官網': 306, '單位': 234, '預估': 975, '配發': 922, '這次': 896, '日前': 510, '買進': 856, '持有': 427, '金額': 933, '以來': 74, '國內': 243, '報酬': 262, '超過': 874, '半導體': 178, '富邦': 311, '唯一': 227, '具有': 136, '相對': 691, '強勁': 371, '主要': 47, '原因': 188, '近年': 884, '營運': 633, '成本': 403, '競爭力': 718, '避免': 915, '未來': 549, '供應鏈': 88, '大廠': 277, '紛紛': 733, '供應商': 87, '要求': 821, '轉型': 881, '狀況': 636, '受到': 199, '稅後': 709, '純益': 732, '億元': 105, '有望': 542, '首度': 984, '業績': 563, '產能': 659, '全面': 121, '春節': 516, '準備': 619, '工作': 333, '天數': 284, '農曆': 883, '推升': 447, '第季': 722, '幅度': 351, '更好': 527, '一定': 3, '降低': 950, '去年同期': 191, '看好': 695, '兩岸': 124, '認為': 844, '開發': 945, '整個': 486, '商機': 229, '強化': 373, '組織': 738, '比重': 589, '最高': 536, '價格': 104, '成績': 406, '事業': 57, '復甦': 384, '速度': 899, '相當': 692, '整體': 489, '已經': 343, '評估': 841, '繼續': 761, '亮眼': 62, '長期': 937, '疫情': 669, '時代': 521, '信心': 94, '核心': 556, '拓展': 424, '下半年': 25, '績效': 759, '年底': 357, '大盤': 280, '報酬率': 263, '時間': 522, '提醒': 455, '分享': 146, '問題': 230, '淨值': 613, '考慮': 768, '參加': 192, '募集': 172, '申購': 661, '收入': 469, '本文': 551, '內容': 115, '授權': 435, '同意': 214, '禁止': 706, '相關': 693, '高度': 990, '期待': 546, '聯準': 771, '啟動': 231, '降息': 951, '債券': 102, '數據': 492, '主席': 46, '支持': 467, '預期': 976, '部位': 917, '達成': 912, '資訊': 863, '選擇': 914, '資產': 862, '利率': 152, '面臨': 971, '風險': 983, '建議': 367, '利用': 153, '中職': 40, '中華': 41, '職棒': 775, '開打': 943, '舉辦': 792, '活動': 604, '球迷': 649, '打出': 413, '擔心': 462, '台北': 204, '巨蛋': 340, '安排': 300, '球星': 647, '啦啦隊': 232, '聯盟': 772, '人員': 63, '人數': 67, '完成': 302, '新聞': 498, '一直': 8, '加速': 165, '比賽': 587, '代表': 72, '中信': 34, '兄弟': 111, '現場': 641, '階段': 957, '球季': 646, '本季': 550, '大學': 275, '造成': 900, '昨天': 518, '公開': 132, '強賽': 375, '最終': 534, '三分球': 12, '舉行': 791, '受傷': 198, '這裡': 897, '提到': 452, '特別': 634, '教練': 482, '修正': 95, '重返': 928, '球隊': 650, '順利': 974, '最佳': 529, '晶片': 525, '分析': 148, '製程': 819, '地區': 250, '目標價': 687, '上漲': 22, '左右': 337, '留意': 663, '權證': 575, '名單': 218, '悍將': 389, '樂天': 566, '計畫': 830, '出現': 142, '例行': 86, '取得': 196, '勝敗': 171, '呈現': 221, '先發': 113, '統一': 742, '合計': 213, '完全': 301, '無法': 628, '味全': 222, '明確': 514, '優於': 109, '事情': 56, '確定': 703, '大谷': 281, '翔平': 767, '道奇': 910, '受訪': 201, '說明': 845, '日本': 511, '體育': 987, '運動': 907, '網站': 753, '決定': 596, '自由': 787, '所有': 411, '共同': 134, '董事會': 803, '現金': 642, '股利': 778, '應用': 396, '財報': 853, '客戶': 308, '年減': 360, '決議': 597, '兩年': 126, '環境': 651, '看待': 696, '工業': 335, '出貨': 143, '衰退': 818, '減少': 616, '展望': 330, '數量': 493, '淡季': 612, '水準': 593, '越南': 875, '原本': 189, '期間': 548, '出貨量': 144, '規劃': 822, '最快': 532, '合約': 212, '春訓': 517, '球衣': 648, '一起': 9, '朋友': 544, '選手': 913, '訓練': 834, '打擊': 414, '投手': 419, '三振': 14, '水原': 592, '一平': 4, '手機': 412, '生活': 652, '高中': 989, '擔任': 461, '不錯': 31, '一次': 7, '測試': 617, '是否': 520, '回應': 240, '提出': 451, '危機': 184, '香港': 986, '新台幣': 497, '支付': 465, '定期': 307, '尚未': 327, '首次': 985, '法律': 602, '行動': 811, '保護': 92, '境外': 265, '保持': 91, '溝通': 620, '方案': 505, '原則': 187, '這項': 898, '時間表': 523, '項目': 973, '正常': 579, '房地產': 410, '引述': 370, '顯示': 982, '融資': 810, '大幅': 276, '年度': 358, '會議': 537, '重點': 929, '過程': 909, '任務': 76, '資源': 861, '累計': 735, '涉及': 611, '城市': 253, '數字': 491, '目標': 686, '再次': 138, '行業': 813, '第一': 720, '接近': 443, '成分股': 400, '買超': 855, '價值': 103, '長榮': 938, '累積': 734, '持股': 429, '賣超': 865, '外資': 271, '同步': 217, '集中': 959, '第二': 721, '強勢': 372, '激勵': 625, '年增': 356, '單季': 235, '戰略': 408, '正式': 580, '直接': 688, '研發': 701, '這是': 895, '中共': 35, '官方': 305, '材料': 554, '技術': 416, '系統': 729, '解決': 827, '實力': 312, '帶來': 349, '世界': 32, '奧運': 287, '門票': 939, '出賽': 145, '巴黎': 344, '綜合': 748, '協會': 180, '賽事': 866, '資格賽': 860, '獲得': 638, '參賽': 194, '資格': 859, '紀錄': 730, '助攻': 166, '搭配': 457, '籃板': 726, '全場': 119, '模式': 570, '知道': 698, '不到': 29, '分鐘': 151, '幫助': 352, '攻勢': 476, '貢獻': 854, '得到': 383, '即時比分': 186, '即時': 185, '賽況': 869, '賽程': 870, '文字': 495, '直播': 689, '東西': 555, '戰績': 409, '排行': 438, '熱身賽': 630, '感覺': 394, '真的': 697, '生涯': 653, '萬美元': 799, '上場': 18, '想要': 391, '教士': 481, '失分': 286, '球場': 645, '習近平': 766, '議題': 850, '設備': 838, '政策': 479, '則是': 156, '李強': 553, '限制': 952, '一名': 1, '討論': 833, '部分': 918, '製造': 820, '韓國': 972, '最大': 530, '來說': 85, '年月日': 359, '每年': 585, '央視': 285, '位於': 79, '這也': 893, '旅遊': 507, '後續': 381, '基礎': 257, '上午': 16, '執行': 255, '小時': 325, '訂單': 829, '公里': 131, '實現': 314, '需要': 967, '格局': 557, '競爭': 717, '區域': 176, '全國': 117, '推進': 448, '影片': 377, '南海': 181, '存在': 294, '菲律賓': 795, '許多': 840, '中方': 39, '對此': 323, '記者會': 836, '發言人': 680, '維護': 751, '和平': 224, '嚴重': 237, '一些': 0, '南韓': 182, '利益': 154, '政府': 477, '堅持': 259, '實施': 313, '控制': 444, '成交量': 399, '萬張': 798, '族群': 508, '逐漸': 892, '工程': 336, '能源': 785, '台積': 207, '台積電': 208, '多頭': 272, '收盤': 471, '美元': 762, '積電': 711, '億美元': 106, '亞洲': 59, '計算': 831, '排名': 437, '合併': 211, '產業': 657, '蘋果': 805, '輝達': 880, '廠商': 363, '採用': 441, '先進': 114, '封裝': 317, '高檔': 993, '改善': 473, '海外': 606, '明顯': 515, '加入': 161, '當前': 665, '同樣': 216, '學生': 297, '就業': 329, '邀請': 916, '機構': 573, '吸引': 220, '提高': 456, '夥伴': 273, '使用': 81, '平台': 353, '學習': 298, '反映': 195, '台幣': 205, '淨利': 614, '繳出': 760, '考量': 769, '股東': 781, '業務': 562, '組合': 737, '營業': 632, '同期': 215, '專業': 321, '整合': 487, '引起': 369, '已有': 342, '拿到': 426, '女子': 288, '行為': 814, '應該': 397, '棒球': 561, '至今': 788, '兩個': 123, '設計': 839, '系列': 728, '職業': 776, '交流': 61, '配合': 920, '連續': 902, '記者': 835, '攝影': 464, '上半年': 17, '成立': 405, '子公司': 293, '二月': 58, '條件': 559, '概念股': 565, '專案': 320, '因應': 241, '綠色': 749, '男子': 662, '有人': 539, '最近': 535, '留言': 664, '鼓勵': 998, '文章': 496, '歷史': 583, '樂觀': 567, '安全': 299, '醫療': 923, '重新': 926, '題材': 980, '操作': 460, '元大': 110, '證券': 849, '專家': 319, '股市': 779, '建設': 366, '盈餘': 682, '因素': 242, '毛利率': 590, '巨人': 338, '讀賣': 851, '登場': 670, '巨人隊': 339, '推出': 445, '開幕': 941, '這場': 894, '開心': 942, '開出': 940, '中央': 37, '研究': 702, '總理': 756, '主任': 43, '兩人': 122, '有效': 541, '導致': 324, '發現': 676, '評價': 842, '此次': 582, '前往': 157, '傳統': 101, '聲明': 774, '加碼': 164, '球團': 644, '超級': 872, '聯賽': 773, '德國': 385, '決賽': 598, '下滑': 26, '印度': 183, '鴻海': 997, '高階': 995, '之外': 50, '高達': 994, '證交所': 848, '網路': 754, '萬點': 800, '機制': 571, '成交': 398, '升級': 177, '衛星': 815, '展開': 332, '當局': 667, '消費': 609, '百分點': 681, '開放': 944, '深圳': 615, '波動': 603, '低於': 80, '為元': 627, '進場': 905, '永續': 594, '電子': 964, '規定': 823, '方式': 504, '納入': 731, '科技股': 708, '指標': 432, '孩子': 295, '整理': 488, '部門': 919, '支撐': 468, '三大': 13, '本次': 552, '快速': 386, '報告': 260, '車用': 879, '醫院': 924, '給予': 741, '為主': 626, '覺得': 825, '王毅': 639, '教育': 483, '一路': 10, '加強': 163, '落實': 801, '創造': 160, '保障': 93, '數位': 490, '引發': 368, '下降': 28, '上升': 15, '容易': 310, '大量': 282, '國泰': 246, '萬人': 796, '人大': 65, '體驗': 988, '上游': 21, '類股': 981, '退休': 888, '俄羅斯': 90, '對手': 322, '隨後': 958, '學校': 296, '標準': 568, '母公司': 584, '發行': 678, '金融': 931, '短期': 699, '變化': 852, '工廠': 334, '雲端': 962, '聚焦': 770, '來自': 84, '走勢': 871, '盤中': 684, '金管會': 930, '創下': 158, '調查': 847, '改變': 474, '高點': 996, '態度': 395, '成員': 402, '意外': 392, '伺服器': 78, '人工智慧': 66, '散熱': 484, '海域': 605, '海警': 607, '一場': 2, '草案': 793, '澳洲': 624, '停止': 98, '坦言': 252, '發表': 679, '虧損': 808, '新能源': 500, '冠軍': 139, '以元': 75, '發文': 675, '分析師': 149, '先前': 112, '事件': 55, '年輕': 361, '敲出': 485, '解決方案': 828, '基本法': 256, '立法': 716, '條例': 560, '港府': 618, '投資者': 422, '審議': 316, '賽季': 867, '大漲': 279, '隊友': 956, '年來': 355, '新質': 501, '產生': 658, '期貨': 547, '投顧': 423, '下午': 24, '全國人大': 118, '融合': 809, '符合': 719, '勇士': 168, '處理': 807, '小米': 326, '美股': 764, '確實': 704, '超越': 873, '委員會': 291, '範圍': 725, '明星': 513, '詹姆斯': 843, '外國': 269, '身分': 878, '落後': 802, '主題': 48, '中華隊': 42, '籃球': 727, '好手': 289, '銀行': 935, '有利': 540, '金門': 932, '執法': 254, '呼籲': 223, '一點': 11, '公開賽': 133, '支出': 466, '陸委會': 954, '兩岸關係': 125, '國務院': 244, '商品': 228, '加大': 162, '監管': 683, '華為': 794, '跌幅': 877, '自營商': 786, '電池': 965, '青年': 969, '國王': 247, '短線': 700, '息率': 388, '漲停': 622, '辦理': 882, '效應': 480, '喜歡': 233, '單月': 236}\n"
     ]
    },
    {
     "data": {
      "text/plain": [
       "0"
      ]
     },
     "execution_count": 105,
     "metadata": {},
     "output_type": "execute_result"
    }
   ],
   "source": [
    "# fit 完後，可以用 `vocabulary_` 看到詞的 feature index\n",
    "print(vectorizer.vocabulary_)\n",
    "vectorizer.vocabulary_['一些']"
   ]
  },
  {
   "cell_type": "code",
   "execution_count": 106,
   "metadata": {},
   "outputs": [
    {
     "name": "stdout",
     "output_type": "stream",
     "text": [
      "(5715, 1000)\n",
      "(2450, 1000)\n"
     ]
    }
   ],
   "source": [
    "# 不需重新 `fit()` data，因前面已經 `fit()` 過了\n",
    "# 只需將測試數據使用之前訓練好的 vectorizer 轉換為相同的特徵表示形式，而不需要重新fit。\n",
    "# 如果對測試數據再次 fit vectorizer，可能會導致使用了測試數據的信息，進而導致模型的不穩定性和過度擬合的問題。\n",
    "vec_test = vectorizer.transform(X_test)\n",
    "print(vec_train.shape)\n",
    "print(vec_test.shape)"
   ]
  },
  {
   "cell_type": "code",
   "execution_count": 107,
   "metadata": {},
   "outputs": [
    {
     "data": {
      "text/html": [
       "<style>#sk-container-id-3 {\n",
       "  /* Definition of color scheme common for light and dark mode */\n",
       "  --sklearn-color-text: black;\n",
       "  --sklearn-color-line: gray;\n",
       "  /* Definition of color scheme for unfitted estimators */\n",
       "  --sklearn-color-unfitted-level-0: #fff5e6;\n",
       "  --sklearn-color-unfitted-level-1: #f6e4d2;\n",
       "  --sklearn-color-unfitted-level-2: #ffe0b3;\n",
       "  --sklearn-color-unfitted-level-3: chocolate;\n",
       "  /* Definition of color scheme for fitted estimators */\n",
       "  --sklearn-color-fitted-level-0: #f0f8ff;\n",
       "  --sklearn-color-fitted-level-1: #d4ebff;\n",
       "  --sklearn-color-fitted-level-2: #b3dbfd;\n",
       "  --sklearn-color-fitted-level-3: cornflowerblue;\n",
       "\n",
       "  /* Specific color for light theme */\n",
       "  --sklearn-color-text-on-default-background: var(--sg-text-color, var(--theme-code-foreground, var(--jp-content-font-color1, black)));\n",
       "  --sklearn-color-background: var(--sg-background-color, var(--theme-background, var(--jp-layout-color0, white)));\n",
       "  --sklearn-color-border-box: var(--sg-text-color, var(--theme-code-foreground, var(--jp-content-font-color1, black)));\n",
       "  --sklearn-color-icon: #696969;\n",
       "\n",
       "  @media (prefers-color-scheme: dark) {\n",
       "    /* Redefinition of color scheme for dark theme */\n",
       "    --sklearn-color-text-on-default-background: var(--sg-text-color, var(--theme-code-foreground, var(--jp-content-font-color1, white)));\n",
       "    --sklearn-color-background: var(--sg-background-color, var(--theme-background, var(--jp-layout-color0, #111)));\n",
       "    --sklearn-color-border-box: var(--sg-text-color, var(--theme-code-foreground, var(--jp-content-font-color1, white)));\n",
       "    --sklearn-color-icon: #878787;\n",
       "  }\n",
       "}\n",
       "\n",
       "#sk-container-id-3 {\n",
       "  color: var(--sklearn-color-text);\n",
       "}\n",
       "\n",
       "#sk-container-id-3 pre {\n",
       "  padding: 0;\n",
       "}\n",
       "\n",
       "#sk-container-id-3 input.sk-hidden--visually {\n",
       "  border: 0;\n",
       "  clip: rect(1px 1px 1px 1px);\n",
       "  clip: rect(1px, 1px, 1px, 1px);\n",
       "  height: 1px;\n",
       "  margin: -1px;\n",
       "  overflow: hidden;\n",
       "  padding: 0;\n",
       "  position: absolute;\n",
       "  width: 1px;\n",
       "}\n",
       "\n",
       "#sk-container-id-3 div.sk-dashed-wrapped {\n",
       "  border: 1px dashed var(--sklearn-color-line);\n",
       "  margin: 0 0.4em 0.5em 0.4em;\n",
       "  box-sizing: border-box;\n",
       "  padding-bottom: 0.4em;\n",
       "  background-color: var(--sklearn-color-background);\n",
       "}\n",
       "\n",
       "#sk-container-id-3 div.sk-container {\n",
       "  /* jupyter's `normalize.less` sets `[hidden] { display: none; }`\n",
       "     but bootstrap.min.css set `[hidden] { display: none !important; }`\n",
       "     so we also need the `!important` here to be able to override the\n",
       "     default hidden behavior on the sphinx rendered scikit-learn.org.\n",
       "     See: https://github.com/scikit-learn/scikit-learn/issues/21755 */\n",
       "  display: inline-block !important;\n",
       "  position: relative;\n",
       "}\n",
       "\n",
       "#sk-container-id-3 div.sk-text-repr-fallback {\n",
       "  display: none;\n",
       "}\n",
       "\n",
       "div.sk-parallel-item,\n",
       "div.sk-serial,\n",
       "div.sk-item {\n",
       "  /* draw centered vertical line to link estimators */\n",
       "  background-image: linear-gradient(var(--sklearn-color-text-on-default-background), var(--sklearn-color-text-on-default-background));\n",
       "  background-size: 2px 100%;\n",
       "  background-repeat: no-repeat;\n",
       "  background-position: center center;\n",
       "}\n",
       "\n",
       "/* Parallel-specific style estimator block */\n",
       "\n",
       "#sk-container-id-3 div.sk-parallel-item::after {\n",
       "  content: \"\";\n",
       "  width: 100%;\n",
       "  border-bottom: 2px solid var(--sklearn-color-text-on-default-background);\n",
       "  flex-grow: 1;\n",
       "}\n",
       "\n",
       "#sk-container-id-3 div.sk-parallel {\n",
       "  display: flex;\n",
       "  align-items: stretch;\n",
       "  justify-content: center;\n",
       "  background-color: var(--sklearn-color-background);\n",
       "  position: relative;\n",
       "}\n",
       "\n",
       "#sk-container-id-3 div.sk-parallel-item {\n",
       "  display: flex;\n",
       "  flex-direction: column;\n",
       "}\n",
       "\n",
       "#sk-container-id-3 div.sk-parallel-item:first-child::after {\n",
       "  align-self: flex-end;\n",
       "  width: 50%;\n",
       "}\n",
       "\n",
       "#sk-container-id-3 div.sk-parallel-item:last-child::after {\n",
       "  align-self: flex-start;\n",
       "  width: 50%;\n",
       "}\n",
       "\n",
       "#sk-container-id-3 div.sk-parallel-item:only-child::after {\n",
       "  width: 0;\n",
       "}\n",
       "\n",
       "/* Serial-specific style estimator block */\n",
       "\n",
       "#sk-container-id-3 div.sk-serial {\n",
       "  display: flex;\n",
       "  flex-direction: column;\n",
       "  align-items: center;\n",
       "  background-color: var(--sklearn-color-background);\n",
       "  padding-right: 1em;\n",
       "  padding-left: 1em;\n",
       "}\n",
       "\n",
       "\n",
       "/* Toggleable style: style used for estimator/Pipeline/ColumnTransformer box that is\n",
       "clickable and can be expanded/collapsed.\n",
       "- Pipeline and ColumnTransformer use this feature and define the default style\n",
       "- Estimators will overwrite some part of the style using the `sk-estimator` class\n",
       "*/\n",
       "\n",
       "/* Pipeline and ColumnTransformer style (default) */\n",
       "\n",
       "#sk-container-id-3 div.sk-toggleable {\n",
       "  /* Default theme specific background. It is overwritten whether we have a\n",
       "  specific estimator or a Pipeline/ColumnTransformer */\n",
       "  background-color: var(--sklearn-color-background);\n",
       "}\n",
       "\n",
       "/* Toggleable label */\n",
       "#sk-container-id-3 label.sk-toggleable__label {\n",
       "  cursor: pointer;\n",
       "  display: block;\n",
       "  width: 100%;\n",
       "  margin-bottom: 0;\n",
       "  padding: 0.5em;\n",
       "  box-sizing: border-box;\n",
       "  text-align: center;\n",
       "}\n",
       "\n",
       "#sk-container-id-3 label.sk-toggleable__label-arrow:before {\n",
       "  /* Arrow on the left of the label */\n",
       "  content: \"▸\";\n",
       "  float: left;\n",
       "  margin-right: 0.25em;\n",
       "  color: var(--sklearn-color-icon);\n",
       "}\n",
       "\n",
       "#sk-container-id-3 label.sk-toggleable__label-arrow:hover:before {\n",
       "  color: var(--sklearn-color-text);\n",
       "}\n",
       "\n",
       "/* Toggleable content - dropdown */\n",
       "\n",
       "#sk-container-id-3 div.sk-toggleable__content {\n",
       "  max-height: 0;\n",
       "  max-width: 0;\n",
       "  overflow: hidden;\n",
       "  text-align: left;\n",
       "  /* unfitted */\n",
       "  background-color: var(--sklearn-color-unfitted-level-0);\n",
       "}\n",
       "\n",
       "#sk-container-id-3 div.sk-toggleable__content.fitted {\n",
       "  /* fitted */\n",
       "  background-color: var(--sklearn-color-fitted-level-0);\n",
       "}\n",
       "\n",
       "#sk-container-id-3 div.sk-toggleable__content pre {\n",
       "  margin: 0.2em;\n",
       "  border-radius: 0.25em;\n",
       "  color: var(--sklearn-color-text);\n",
       "  /* unfitted */\n",
       "  background-color: var(--sklearn-color-unfitted-level-0);\n",
       "}\n",
       "\n",
       "#sk-container-id-3 div.sk-toggleable__content.fitted pre {\n",
       "  /* unfitted */\n",
       "  background-color: var(--sklearn-color-fitted-level-0);\n",
       "}\n",
       "\n",
       "#sk-container-id-3 input.sk-toggleable__control:checked~div.sk-toggleable__content {\n",
       "  /* Expand drop-down */\n",
       "  max-height: 200px;\n",
       "  max-width: 100%;\n",
       "  overflow: auto;\n",
       "}\n",
       "\n",
       "#sk-container-id-3 input.sk-toggleable__control:checked~label.sk-toggleable__label-arrow:before {\n",
       "  content: \"▾\";\n",
       "}\n",
       "\n",
       "/* Pipeline/ColumnTransformer-specific style */\n",
       "\n",
       "#sk-container-id-3 div.sk-label input.sk-toggleable__control:checked~label.sk-toggleable__label {\n",
       "  color: var(--sklearn-color-text);\n",
       "  background-color: var(--sklearn-color-unfitted-level-2);\n",
       "}\n",
       "\n",
       "#sk-container-id-3 div.sk-label.fitted input.sk-toggleable__control:checked~label.sk-toggleable__label {\n",
       "  background-color: var(--sklearn-color-fitted-level-2);\n",
       "}\n",
       "\n",
       "/* Estimator-specific style */\n",
       "\n",
       "/* Colorize estimator box */\n",
       "#sk-container-id-3 div.sk-estimator input.sk-toggleable__control:checked~label.sk-toggleable__label {\n",
       "  /* unfitted */\n",
       "  background-color: var(--sklearn-color-unfitted-level-2);\n",
       "}\n",
       "\n",
       "#sk-container-id-3 div.sk-estimator.fitted input.sk-toggleable__control:checked~label.sk-toggleable__label {\n",
       "  /* fitted */\n",
       "  background-color: var(--sklearn-color-fitted-level-2);\n",
       "}\n",
       "\n",
       "#sk-container-id-3 div.sk-label label.sk-toggleable__label,\n",
       "#sk-container-id-3 div.sk-label label {\n",
       "  /* The background is the default theme color */\n",
       "  color: var(--sklearn-color-text-on-default-background);\n",
       "}\n",
       "\n",
       "/* On hover, darken the color of the background */\n",
       "#sk-container-id-3 div.sk-label:hover label.sk-toggleable__label {\n",
       "  color: var(--sklearn-color-text);\n",
       "  background-color: var(--sklearn-color-unfitted-level-2);\n",
       "}\n",
       "\n",
       "/* Label box, darken color on hover, fitted */\n",
       "#sk-container-id-3 div.sk-label.fitted:hover label.sk-toggleable__label.fitted {\n",
       "  color: var(--sklearn-color-text);\n",
       "  background-color: var(--sklearn-color-fitted-level-2);\n",
       "}\n",
       "\n",
       "/* Estimator label */\n",
       "\n",
       "#sk-container-id-3 div.sk-label label {\n",
       "  font-family: monospace;\n",
       "  font-weight: bold;\n",
       "  display: inline-block;\n",
       "  line-height: 1.2em;\n",
       "}\n",
       "\n",
       "#sk-container-id-3 div.sk-label-container {\n",
       "  text-align: center;\n",
       "}\n",
       "\n",
       "/* Estimator-specific */\n",
       "#sk-container-id-3 div.sk-estimator {\n",
       "  font-family: monospace;\n",
       "  border: 1px dotted var(--sklearn-color-border-box);\n",
       "  border-radius: 0.25em;\n",
       "  box-sizing: border-box;\n",
       "  margin-bottom: 0.5em;\n",
       "  /* unfitted */\n",
       "  background-color: var(--sklearn-color-unfitted-level-0);\n",
       "}\n",
       "\n",
       "#sk-container-id-3 div.sk-estimator.fitted {\n",
       "  /* fitted */\n",
       "  background-color: var(--sklearn-color-fitted-level-0);\n",
       "}\n",
       "\n",
       "/* on hover */\n",
       "#sk-container-id-3 div.sk-estimator:hover {\n",
       "  /* unfitted */\n",
       "  background-color: var(--sklearn-color-unfitted-level-2);\n",
       "}\n",
       "\n",
       "#sk-container-id-3 div.sk-estimator.fitted:hover {\n",
       "  /* fitted */\n",
       "  background-color: var(--sklearn-color-fitted-level-2);\n",
       "}\n",
       "\n",
       "/* Specification for estimator info (e.g. \"i\" and \"?\") */\n",
       "\n",
       "/* Common style for \"i\" and \"?\" */\n",
       "\n",
       ".sk-estimator-doc-link,\n",
       "a:link.sk-estimator-doc-link,\n",
       "a:visited.sk-estimator-doc-link {\n",
       "  float: right;\n",
       "  font-size: smaller;\n",
       "  line-height: 1em;\n",
       "  font-family: monospace;\n",
       "  background-color: var(--sklearn-color-background);\n",
       "  border-radius: 1em;\n",
       "  height: 1em;\n",
       "  width: 1em;\n",
       "  text-decoration: none !important;\n",
       "  margin-left: 1ex;\n",
       "  /* unfitted */\n",
       "  border: var(--sklearn-color-unfitted-level-1) 1pt solid;\n",
       "  color: var(--sklearn-color-unfitted-level-1);\n",
       "}\n",
       "\n",
       ".sk-estimator-doc-link.fitted,\n",
       "a:link.sk-estimator-doc-link.fitted,\n",
       "a:visited.sk-estimator-doc-link.fitted {\n",
       "  /* fitted */\n",
       "  border: var(--sklearn-color-fitted-level-1) 1pt solid;\n",
       "  color: var(--sklearn-color-fitted-level-1);\n",
       "}\n",
       "\n",
       "/* On hover */\n",
       "div.sk-estimator:hover .sk-estimator-doc-link:hover,\n",
       ".sk-estimator-doc-link:hover,\n",
       "div.sk-label-container:hover .sk-estimator-doc-link:hover,\n",
       ".sk-estimator-doc-link:hover {\n",
       "  /* unfitted */\n",
       "  background-color: var(--sklearn-color-unfitted-level-3);\n",
       "  color: var(--sklearn-color-background);\n",
       "  text-decoration: none;\n",
       "}\n",
       "\n",
       "div.sk-estimator.fitted:hover .sk-estimator-doc-link.fitted:hover,\n",
       ".sk-estimator-doc-link.fitted:hover,\n",
       "div.sk-label-container:hover .sk-estimator-doc-link.fitted:hover,\n",
       ".sk-estimator-doc-link.fitted:hover {\n",
       "  /* fitted */\n",
       "  background-color: var(--sklearn-color-fitted-level-3);\n",
       "  color: var(--sklearn-color-background);\n",
       "  text-decoration: none;\n",
       "}\n",
       "\n",
       "/* Span, style for the box shown on hovering the info icon */\n",
       ".sk-estimator-doc-link span {\n",
       "  display: none;\n",
       "  z-index: 9999;\n",
       "  position: relative;\n",
       "  font-weight: normal;\n",
       "  right: .2ex;\n",
       "  padding: .5ex;\n",
       "  margin: .5ex;\n",
       "  width: min-content;\n",
       "  min-width: 20ex;\n",
       "  max-width: 50ex;\n",
       "  color: var(--sklearn-color-text);\n",
       "  box-shadow: 2pt 2pt 4pt #999;\n",
       "  /* unfitted */\n",
       "  background: var(--sklearn-color-unfitted-level-0);\n",
       "  border: .5pt solid var(--sklearn-color-unfitted-level-3);\n",
       "}\n",
       "\n",
       ".sk-estimator-doc-link.fitted span {\n",
       "  /* fitted */\n",
       "  background: var(--sklearn-color-fitted-level-0);\n",
       "  border: var(--sklearn-color-fitted-level-3);\n",
       "}\n",
       "\n",
       ".sk-estimator-doc-link:hover span {\n",
       "  display: block;\n",
       "}\n",
       "\n",
       "/* \"?\"-specific style due to the `<a>` HTML tag */\n",
       "\n",
       "#sk-container-id-3 a.estimator_doc_link {\n",
       "  float: right;\n",
       "  font-size: 1rem;\n",
       "  line-height: 1em;\n",
       "  font-family: monospace;\n",
       "  background-color: var(--sklearn-color-background);\n",
       "  border-radius: 1rem;\n",
       "  height: 1rem;\n",
       "  width: 1rem;\n",
       "  text-decoration: none;\n",
       "  /* unfitted */\n",
       "  color: var(--sklearn-color-unfitted-level-1);\n",
       "  border: var(--sklearn-color-unfitted-level-1) 1pt solid;\n",
       "}\n",
       "\n",
       "#sk-container-id-3 a.estimator_doc_link.fitted {\n",
       "  /* fitted */\n",
       "  border: var(--sklearn-color-fitted-level-1) 1pt solid;\n",
       "  color: var(--sklearn-color-fitted-level-1);\n",
       "}\n",
       "\n",
       "/* On hover */\n",
       "#sk-container-id-3 a.estimator_doc_link:hover {\n",
       "  /* unfitted */\n",
       "  background-color: var(--sklearn-color-unfitted-level-3);\n",
       "  color: var(--sklearn-color-background);\n",
       "  text-decoration: none;\n",
       "}\n",
       "\n",
       "#sk-container-id-3 a.estimator_doc_link.fitted:hover {\n",
       "  /* fitted */\n",
       "  background-color: var(--sklearn-color-fitted-level-3);\n",
       "}\n",
       "</style><div id=\"sk-container-id-3\" class=\"sk-top-container\"><div class=\"sk-text-repr-fallback\"><pre>LogisticRegression()</pre><b>In a Jupyter environment, please rerun this cell to show the HTML representation or trust the notebook. <br />On GitHub, the HTML representation is unable to render, please try loading this page with nbviewer.org.</b></div><div class=\"sk-container\" hidden><div class=\"sk-item\"><div class=\"sk-estimator fitted sk-toggleable\"><input class=\"sk-toggleable__control sk-hidden--visually\" id=\"sk-estimator-id-3\" type=\"checkbox\" checked><label for=\"sk-estimator-id-3\" class=\"sk-toggleable__label fitted sk-toggleable__label-arrow fitted\">&nbsp;&nbsp;LogisticRegression<a class=\"sk-estimator-doc-link fitted\" rel=\"noreferrer\" target=\"_blank\" href=\"https://scikit-learn.org/1.4/modules/generated/sklearn.linear_model.LogisticRegression.html\">?<span>Documentation for LogisticRegression</span></a><span class=\"sk-estimator-doc-link fitted\">i<span>Fitted</span></span></label><div class=\"sk-toggleable__content fitted\"><pre>LogisticRegression()</pre></div> </div></div></div></div>"
      ],
      "text/plain": [
       "LogisticRegression()"
      ]
     },
     "execution_count": 107,
     "metadata": {},
     "output_type": "execute_result"
    }
   ],
   "source": [
    "# 建立分類器模型\n",
    "clf = LogisticRegression()\n",
    "clf.fit(vec_train, y_train)\n",
    "clf"
   ]
  },
  {
   "cell_type": "code",
   "execution_count": 108,
   "metadata": {},
   "outputs": [
    {
     "data": {
      "text/plain": [
       "array(['兩岸', '股市', '運動'], dtype=object)"
      ]
     },
     "execution_count": 108,
     "metadata": {},
     "output_type": "execute_result"
    }
   ],
   "source": [
    "clf.classes_"
   ]
  },
  {
   "cell_type": "code",
   "execution_count": 109,
   "metadata": {},
   "outputs": [
    {
     "name": "stdout",
     "output_type": "stream",
     "text": [
      "['兩岸' '運動' '兩岸' '運動' '運動' '股市' '兩岸' '兩岸' '股市' '股市']\n"
     ]
    }
   ],
   "source": [
    "y_pred = clf.predict(vec_test)\n",
    "y_pred_proba = clf.predict_proba(vec_test)\n",
    "print(y_pred[:10])"
   ]
  },
  {
   "cell_type": "code",
   "execution_count": 110,
   "metadata": {},
   "outputs": [
    {
     "name": "stdout",
     "output_type": "stream",
     "text": [
      "(2450, 3)\n"
     ]
    },
    {
     "data": {
      "text/plain": [
       "array([9.99790701e-01, 2.08732282e-04, 5.66446109e-07])"
      ]
     },
     "execution_count": 110,
     "metadata": {},
     "output_type": "execute_result"
    }
   ],
   "source": [
    "print(y_pred_proba.shape)\n",
    "y_pred_proba[0,:]"
   ]
  },
  {
   "cell_type": "code",
   "execution_count": 111,
   "metadata": {},
   "outputs": [
    {
     "name": "stdout",
     "output_type": "stream",
     "text": [
      "              precision    recall  f1-score   support\n",
      "\n",
      "          兩岸       0.99      0.98      0.98       758\n",
      "          股市       0.99      0.99      0.99      1077\n",
      "          運動       1.00      0.99      1.00       615\n",
      "\n",
      "    accuracy                           0.99      2450\n",
      "   macro avg       0.99      0.99      0.99      2450\n",
      "weighted avg       0.99      0.99      0.99      2450\n",
      "\n"
     ]
    }
   ],
   "source": [
    "## Accuracy, Precision, Recall, F1-score\n",
    "print(classification_report(y_test, y_pred))"
   ]
  },
  {
   "cell_type": "code",
   "execution_count": 112,
   "metadata": {},
   "outputs": [
    {
     "data": {
      "text/plain": [
       "array([[ 744,   13,    1],\n",
       "       [   6, 1071,    0],\n",
       "       [   5,    0,  610]], dtype=int64)"
      ]
     },
     "execution_count": 112,
     "metadata": {},
     "output_type": "execute_result"
    }
   ],
   "source": [
    "classes = clf.classes_\n",
    "cm = confusion_matrix(y_test, y_pred)\n",
    "cm"
   ]
  },
  {
   "cell_type": "code",
   "execution_count": 113,
   "metadata": {},
   "outputs": [
    {
     "data": {
      "text/plain": [
       "(array([0.5, 1.5, 2.5]),\n",
       " [Text(0, 0.5, '兩岸'), Text(0, 1.5, '股市'), Text(0, 2.5, '運動')])"
      ]
     },
     "execution_count": 113,
     "metadata": {},
     "output_type": "execute_result"
    },
    {
     "data": {
      "image/png": "[encoded data removed]",
      "text/plain": [
       "<Figure size 640x480 with 1 Axes>"
      ]
     },
     "metadata": {},
     "output_type": "display_data"
    }
   ],
   "source": [
    "## Plot confusion matrix\n",
    "fig, ax = plt.subplots()\n",
    "sns.heatmap(cm, annot=True, fmt=\"d\", ax=ax, cmap=plt.cm.Blues, cbar=False)\n",
    "ax.set(\n",
    "    xlabel=\"Pred\",\n",
    "    ylabel=\"True\",\n",
    "    xticklabels=classes,\n",
    "    yticklabels=classes,\n",
    "    title=\"Confusion matrix\",\n",
    ")\n",
    "plt.yticks(rotation=0)"
   ]
  },
  {
   "attachments": {},
   "cell_type": "markdown",
   "metadata": {},
   "source": [
    "### 3.4 tfidf"
   ]
  },
  {
   "attachments": {},
   "cell_type": "markdown",
   "metadata": {},
   "source": [
    "改試試看使用 tf-idf 的 DTM 來代表文章，訓練分類模型的效果"
   ]
  },
  {
   "cell_type": "code",
   "execution_count": 114,
   "metadata": {},
   "outputs": [
    {
     "data": {
      "text/plain": [
       "array([0.        , 0.        , 0.        , 0.        , 0.        ,\n",
       "       0.        , 0.0918026 , 0.        , 0.        , 0.        ,\n",
       "       0.        , 0.        , 0.        , 0.        , 0.        ,\n",
       "       0.        , 0.        , 0.        , 0.        , 0.        ,\n",
       "       0.        , 0.        , 0.        , 0.        , 0.        ,\n",
       "       0.        , 0.        , 0.        , 0.        , 0.        ,\n",
       "       0.        , 0.        , 0.        , 0.11605757, 0.        ,\n",
       "       0.        , 0.        , 0.        , 0.        , 0.        ,\n",
       "       0.        , 0.        , 0.        , 0.        , 0.11940435,\n",
       "       0.1134764 , 0.        , 0.        , 0.        , 0.        ,\n",
       "       0.        , 0.        , 0.        , 0.        , 0.        ,\n",
       "       0.        , 0.        , 0.        , 0.        , 0.        ,\n",
       "       0.        , 0.        , 0.        , 0.        , 0.        ,\n",
       "       0.        , 0.        , 0.        , 0.        , 0.18206788,\n",
       "       0.        , 0.        , 0.        , 0.        , 0.        ,\n",
       "       0.        , 0.        , 0.        , 0.        , 0.        ,\n",
       "       0.        , 0.        , 0.        , 0.        , 0.        ,\n",
       "       0.        , 0.        , 0.        , 0.        , 0.        ,\n",
       "       0.        , 0.        , 0.        , 0.        , 0.        ,\n",
       "       0.        , 0.        , 0.11829227, 0.        , 0.        ,\n",
       "       0.        , 0.        , 0.        , 0.        , 0.        ,\n",
       "       0.        , 0.        , 0.        , 0.        , 0.        ,\n",
       "       0.        , 0.        , 0.        , 0.        , 0.        ,\n",
       "       0.        , 0.        , 0.        , 0.        , 0.        ,\n",
       "       0.        , 0.        , 0.        , 0.        , 0.        ,\n",
       "       0.        , 0.        , 0.        , 0.        , 0.        ,\n",
       "       0.        , 0.        , 0.        , 0.        , 0.        ,\n",
       "       0.        , 0.        , 0.09752072, 0.        , 0.        ,\n",
       "       0.        , 0.        , 0.        , 0.        , 0.        ,\n",
       "       0.        , 0.        , 0.        , 0.        , 0.        ,\n",
       "       0.        , 0.        , 0.        , 0.        , 0.        ,\n",
       "       0.        , 0.        , 0.        , 0.        , 0.        ,\n",
       "       0.        , 0.        , 0.        , 0.        , 0.        ,\n",
       "       0.        , 0.        , 0.2093318 , 0.        , 0.        ,\n",
       "       0.11892194, 0.        , 0.        , 0.        , 0.        ,\n",
       "       0.        , 0.        , 0.        , 0.        , 0.        ,\n",
       "       0.        , 0.        , 0.        , 0.        , 0.        ,\n",
       "       0.        , 0.        , 0.        , 0.        , 0.        ,\n",
       "       0.        , 0.        , 0.        , 0.        , 0.        ,\n",
       "       0.        , 0.        , 0.        , 0.        , 0.        ,\n",
       "       0.        , 0.        , 0.        , 0.        , 0.        ,\n",
       "       0.        , 0.06464587, 0.        , 0.        , 0.        ,\n",
       "       0.        , 0.        , 0.        , 0.        , 0.        ,\n",
       "       0.        , 0.        , 0.        , 0.        , 0.        ,\n",
       "       0.        , 0.        , 0.        , 0.        , 0.        ,\n",
       "       0.        , 0.        , 0.        , 0.        , 0.        ,\n",
       "       0.        , 0.        , 0.        , 0.        , 0.        ,\n",
       "       0.        , 0.        , 0.        , 0.        , 0.        ,\n",
       "       0.        , 0.        , 0.        , 0.        , 0.        ,\n",
       "       0.        , 0.        , 0.        , 0.        , 0.09987107,\n",
       "       0.        , 0.        , 0.        , 0.        , 0.        ,\n",
       "       0.        , 0.        , 0.        , 0.        , 0.        ,\n",
       "       0.        , 0.        , 0.        , 0.        , 0.        ,\n",
       "       0.        , 0.        , 0.        , 0.        , 0.        ,\n",
       "       0.        , 0.        , 0.        , 0.        , 0.        ,\n",
       "       0.        , 0.        , 0.        , 0.        , 0.        ,\n",
       "       0.        , 0.        , 0.        , 0.        , 0.        ,\n",
       "       0.        , 0.        , 0.        , 0.        , 0.        ,\n",
       "       0.        , 0.        , 0.        , 0.        , 0.        ,\n",
       "       0.        , 0.        , 0.        , 0.        , 0.        ,\n",
       "       0.        , 0.        , 0.        , 0.        , 0.        ,\n",
       "       0.        , 0.        , 0.        , 0.        , 0.        ,\n",
       "       0.        , 0.        , 0.        , 0.        , 0.        ,\n",
       "       0.        , 0.        , 0.        , 0.        , 0.        ,\n",
       "       0.        , 0.        , 0.        , 0.        , 0.        ,\n",
       "       0.        , 0.        , 0.        , 0.09759106, 0.        ,\n",
       "       0.        , 0.10270968, 0.        , 0.        , 0.        ,\n",
       "       0.        , 0.        , 0.        , 0.        , 0.        ,\n",
       "       0.        , 0.11549257, 0.        , 0.        , 0.        ,\n",
       "       0.        , 0.        , 0.08730324, 0.07871561, 0.        ,\n",
       "       0.        , 0.        , 0.        , 0.        , 0.        ,\n",
       "       0.        , 0.        , 0.        , 0.        , 0.        ,\n",
       "       0.        , 0.        , 0.        , 0.        , 0.        ,\n",
       "       0.11054285, 0.        , 0.        , 0.        , 0.        ,\n",
       "       0.        , 0.        , 0.        , 0.        , 0.        ,\n",
       "       0.        , 0.11413133, 0.        , 0.        , 0.11634472,\n",
       "       0.        , 0.        , 0.11892194, 0.        , 0.        ,\n",
       "       0.        , 0.        , 0.        , 0.        , 0.        ,\n",
       "       0.08354817, 0.        , 0.        , 0.        , 0.        ,\n",
       "       0.        , 0.        , 0.        , 0.        , 0.        ,\n",
       "       0.        , 0.10073043, 0.        , 0.        , 0.        ,\n",
       "       0.        , 0.        , 0.        , 0.        , 0.        ,\n",
       "       0.        , 0.        , 0.        , 0.        , 0.        ,\n",
       "       0.        , 0.        , 0.        , 0.        , 0.        ,\n",
       "       0.        , 0.        , 0.        , 0.        , 0.        ,\n",
       "       0.096286  , 0.        , 0.        , 0.11754247, 0.        ,\n",
       "       0.0554801 , 0.        , 0.        , 0.        , 0.10194978,\n",
       "       0.        , 0.        , 0.        , 0.        , 0.        ,\n",
       "       0.        , 0.        , 0.09447428, 0.        , 0.        ,\n",
       "       0.        , 0.        , 0.        , 0.        , 0.        ,\n",
       "       0.        , 0.        , 0.        , 0.        , 0.        ,\n",
       "       0.        , 0.        , 0.        , 0.        , 0.11399902,\n",
       "       0.        , 0.        , 0.        , 0.        , 0.        ,\n",
       "       0.        , 0.        , 0.        , 0.        , 0.        ,\n",
       "       0.        , 0.        , 0.        , 0.        , 0.        ,\n",
       "       0.23658453, 0.        , 0.        , 0.        , 0.        ,\n",
       "       0.        , 0.        , 0.        , 0.        , 0.        ,\n",
       "       0.        , 0.        , 0.        , 0.        , 0.        ,\n",
       "       0.        , 0.        , 0.        , 0.        , 0.        ,\n",
       "       0.        , 0.        , 0.        , 0.        , 0.        ,\n",
       "       0.        , 0.        , 0.        , 0.        , 0.        ,\n",
       "       0.        , 0.        , 0.        , 0.        , 0.        ,\n",
       "       0.        , 0.        , 0.        , 0.        , 0.        ,\n",
       "       0.        , 0.        , 0.        , 0.        , 0.        ,\n",
       "       0.        , 0.        , 0.        , 0.        , 0.        ,\n",
       "       0.        , 0.        , 0.        , 0.        , 0.        ,\n",
       "       0.        , 0.08293811, 0.        , 0.        , 0.        ,\n",
       "       0.        , 0.        , 0.        , 0.        , 0.        ,\n",
       "       0.        , 0.        , 0.        , 0.        , 0.        ,\n",
       "       0.        , 0.        , 0.        , 0.        , 0.        ,\n",
       "       0.        , 0.        , 0.        , 0.        , 0.        ,\n",
       "       0.        , 0.        , 0.        , 0.131076  , 0.        ,\n",
       "       0.        , 0.        , 0.        , 0.        , 0.        ,\n",
       "       0.        , 0.        , 0.        , 0.        , 0.        ,\n",
       "       0.        , 0.        , 0.07380375, 0.        , 0.        ,\n",
       "       0.        , 0.        , 0.        , 0.        , 0.        ,\n",
       "       0.        , 0.        , 0.        , 0.        , 0.        ,\n",
       "       0.        , 0.        , 0.        , 0.09794561, 0.        ,\n",
       "       0.        , 0.        , 0.        , 0.        , 0.        ,\n",
       "       0.        , 0.        , 0.        , 0.        , 0.        ,\n",
       "       0.        , 0.        , 0.        , 0.        , 0.        ,\n",
       "       0.        , 0.        , 0.        , 0.        , 0.        ,\n",
       "       0.        , 0.        , 0.        , 0.        , 0.        ,\n",
       "       0.        , 0.        , 0.        , 0.        , 0.        ,\n",
       "       0.        , 0.        , 0.        , 0.        , 0.        ,\n",
       "       0.        , 0.        , 0.        , 0.        , 0.        ,\n",
       "       0.        , 0.        , 0.        , 0.        , 0.        ,\n",
       "       0.        , 0.        , 0.        , 0.        , 0.        ,\n",
       "       0.        , 0.        , 0.        , 0.17664095, 0.        ,\n",
       "       0.        , 0.        , 0.        , 0.        , 0.        ,\n",
       "       0.        , 0.        , 0.        , 0.        , 0.        ,\n",
       "       0.        , 0.        , 0.        , 0.        , 0.        ,\n",
       "       0.        , 0.        , 0.        , 0.        , 0.        ,\n",
       "       0.        , 0.        , 0.        , 0.09588706, 0.        ,\n",
       "       0.        , 0.        , 0.        , 0.10897234, 0.        ,\n",
       "       0.        , 0.        , 0.        , 0.        , 0.        ,\n",
       "       0.        , 0.        , 0.        , 0.        , 0.        ,\n",
       "       0.        , 0.        , 0.        , 0.        , 0.        ,\n",
       "       0.10941151, 0.        , 0.        , 0.        , 0.09549412,\n",
       "       0.        , 0.        , 0.        , 0.        , 0.        ,\n",
       "       0.        , 0.        , 0.        , 0.        , 0.        ,\n",
       "       0.        , 0.        , 0.        , 0.        , 0.        ,\n",
       "       0.        , 0.        , 0.        , 0.        , 0.19462168,\n",
       "       0.        , 0.        , 0.        , 0.        , 0.        ,\n",
       "       0.        , 0.        , 0.        , 0.        , 0.        ,\n",
       "       0.        , 0.        , 0.        , 0.        , 0.        ,\n",
       "       0.        , 0.        , 0.        , 0.        , 0.        ,\n",
       "       0.        , 0.10485122, 0.        , 0.        , 0.        ,\n",
       "       0.09343262, 0.        , 0.        , 0.        , 0.        ,\n",
       "       0.        , 0.        , 0.        , 0.        , 0.        ,\n",
       "       0.        , 0.        , 0.        , 0.        , 0.        ,\n",
       "       0.10668059, 0.        , 0.        , 0.        , 0.        ,\n",
       "       0.        , 0.        , 0.        , 0.        , 0.        ,\n",
       "       0.        , 0.        , 0.        , 0.        , 0.        ,\n",
       "       0.        , 0.        , 0.        , 0.        , 0.        ,\n",
       "       0.        , 0.        , 0.        , 0.        , 0.        ,\n",
       "       0.        , 0.        , 0.        , 0.        , 0.        ,\n",
       "       0.        , 0.        , 0.        , 0.        , 0.        ,\n",
       "       0.        , 0.        , 0.        , 0.        , 0.        ,\n",
       "       0.        , 0.        , 0.        , 0.        , 0.        ,\n",
       "       0.        , 0.        , 0.        , 0.        , 0.        ,\n",
       "       0.        , 0.        , 0.        , 0.        , 0.        ,\n",
       "       0.        , 0.        , 0.        , 0.        , 0.        ,\n",
       "       0.        , 0.        , 0.        , 0.        , 0.        ,\n",
       "       0.        , 0.        , 0.        , 0.        , 0.        ,\n",
       "       0.        , 0.        , 0.        , 0.        , 0.        ,\n",
       "       0.        , 0.        , 0.        , 0.        , 0.        ,\n",
       "       0.        , 0.        , 0.10985819, 0.        , 0.        ,\n",
       "       0.        , 0.        , 0.        , 0.        , 0.        ,\n",
       "       0.        , 0.        , 0.        , 0.        , 0.        ,\n",
       "       0.        , 0.        , 0.        , 0.        , 0.        ,\n",
       "       0.        , 0.        , 0.        , 0.        , 0.        ,\n",
       "       0.        , 0.        , 0.        , 0.        , 0.        ,\n",
       "       0.        , 0.        , 0.        , 0.11480309, 0.        ,\n",
       "       0.        , 0.        , 0.        , 0.        , 0.        ,\n",
       "       0.        , 0.        , 0.        , 0.        , 0.        ,\n",
       "       0.        , 0.        , 0.        , 0.        , 0.        ,\n",
       "       0.        , 0.16170554, 0.        , 0.        , 0.        ,\n",
       "       0.09355303, 0.        , 0.        , 0.        , 0.        ,\n",
       "       0.        , 0.        , 0.        , 0.        , 0.        ,\n",
       "       0.        , 0.50077823, 0.        , 0.        , 0.        ,\n",
       "       0.        , 0.        , 0.        , 0.        , 0.        ,\n",
       "       0.        , 0.        , 0.        , 0.        , 0.        ,\n",
       "       0.        , 0.        , 0.        , 0.        , 0.        ,\n",
       "       0.        , 0.        , 0.        , 0.        , 0.        ,\n",
       "       0.        , 0.        , 0.        , 0.        , 0.        ,\n",
       "       0.        , 0.        , 0.        , 0.        , 0.08851881,\n",
       "       0.        , 0.        , 0.        , 0.        , 0.        ,\n",
       "       0.        , 0.        , 0.        , 0.        , 0.        ,\n",
       "       0.        , 0.        , 0.        , 0.09472553, 0.13008045,\n",
       "       0.        , 0.        , 0.        , 0.        , 0.        ,\n",
       "       0.        , 0.        , 0.        , 0.        , 0.        ,\n",
       "       0.        , 0.10245391, 0.        , 0.        , 0.        ,\n",
       "       0.        , 0.        , 0.        , 0.        , 0.        ,\n",
       "       0.        , 0.        , 0.        , 0.        , 0.        ,\n",
       "       0.        , 0.        , 0.        , 0.20323804, 0.        ,\n",
       "       0.        , 0.        , 0.        , 0.        , 0.        ,\n",
       "       0.        , 0.        , 0.        , 0.        , 0.        ,\n",
       "       0.        , 0.        , 0.        , 0.        , 0.        ,\n",
       "       0.        , 0.        , 0.        , 0.        , 0.11209087])"
      ]
     },
     "execution_count": 114,
     "metadata": {},
     "output_type": "execute_result"
    }
   ],
   "source": [
    "vectorizer = TfidfVectorizer(max_features=1000)\n",
    "vec_train = vectorizer.fit_transform(X_train)\n",
    "vec_test = vectorizer.transform(X_test)\n",
    "vec_train.toarray()[0,:]"
   ]
  },
  {
   "cell_type": "code",
   "execution_count": 115,
   "metadata": {},
   "outputs": [
    {
     "name": "stdout",
     "output_type": "stream",
     "text": [
      "              precision    recall  f1-score   support\n",
      "\n",
      "          兩岸       0.99      0.98      0.98       758\n",
      "          股市       0.99      0.99      0.99      1077\n",
      "          運動       1.00      0.99      0.99       615\n",
      "\n",
      "    accuracy                           0.99      2450\n",
      "   macro avg       0.99      0.99      0.99      2450\n",
      "weighted avg       0.99      0.99      0.99      2450\n",
      "\n"
     ]
    }
   ],
   "source": [
    "clf.fit(vec_train, y_train)\n",
    "y_pred = clf.predict(vec_test)\n",
    "y_pred_proba = clf.predict_proba(vec_test)\n",
    "\n",
    "# results\n",
    "## Accuracy, Precision, Recall, F1-score\n",
    "print(classification_report(y_test, y_pred))"
   ]
  },
  {
   "attachments": {},
   "cell_type": "markdown",
   "metadata": {},
   "source": [
    "效果一樣也是不錯，可能因為四個新聞版別本來就有很大的差異，用字遣詞會不同。"
   ]
  },
  {
   "attachments": {},
   "cell_type": "markdown",
   "metadata": {},
   "source": [
    "### 3.5 CV"
   ]
  },
  {
   "attachments": {},
   "cell_type": "markdown",
   "metadata": {},
   "source": [
    "接著介紹 cross-validation。CV 在機器學習中，是一個很常用來讓模型評估能夠得到更穩定的數值的手法。"
   ]
  },
  {
   "attachments": {},
   "cell_type": "markdown",
   "metadata": {},
   "source": [
    "* figure1: "
   ]
  },
  {
   "attachments": {},
   "cell_type": "markdown",
   "metadata": {},
   "source": [
    "<img src=\"https://scikit-learn.org/stable/_images/grid_search_workflow.png\"  width=\"1000\">"
   ]
  },
  {
   "attachments": {},
   "cell_type": "markdown",
   "metadata": {},
   "source": [
    "* figure 2:  "
   ]
  },
  {
   "attachments": {},
   "cell_type": "markdown",
   "metadata": {},
   "source": [
    "![](https://scikit-learn.org/stable/_images/grid_search_cross_validation.png)"
   ]
  },
  {
   "attachments": {},
   "cell_type": "markdown",
   "metadata": {},
   "source": [
    "source: <https://scikit-learn.org/stable/modules/cross_validation.html#cross-validation-and-model-selection>"
   ]
  },
  {
   "attachments": {},
   "cell_type": "markdown",
   "metadata": {},
   "source": [
    "cross-validation 會自動切成 k 組 train-test dataset。  \n",
    "`cross_validate()` 會回傳經過 cross-validation 的模型評估結果。"
   ]
  },
  {
   "cell_type": "code",
   "execution_count": 116,
   "metadata": {},
   "outputs": [
    {
     "name": "stdout",
     "output_type": "stream",
     "text": [
      "{'estimator': [LogisticRegression(),\n",
      "               LogisticRegression(),\n",
      "               LogisticRegression(),\n",
      "               LogisticRegression(),\n",
      "               LogisticRegression()],\n",
      " 'fit_time': array([0.05920672, 0.03939533, 0.05532527, 0.04298472, 0.04117775]),\n",
      " 'score_time': array([0.00577545, 0.01502514, 0.01189971, 0.01500893, 0.01657915]),\n",
      " 'test_f1_macro': array([0.98747721, 0.98892167, 0.99299335, 0.98721821, 0.98862703]),\n",
      " 'test_precision_macro': array([0.98866481, 0.98851369, 0.99241565, 0.98710048, 0.98876076]),\n",
      " 'test_recall_macro': array([0.98636213, 0.98938173, 0.99359284, 0.98735203, 0.98851347])}\n"
     ]
    }
   ],
   "source": [
    "clf = LogisticRegression()\n",
    "vec_train = TfidfVectorizer(max_features=1000).fit_transform(X_train)\n",
    "\n",
    "scores = cross_validate(clf, vec_train, y_train, cv=5, scoring=(\"f1_macro\", \"recall_macro\", \"precision_macro\"), return_estimator=True)\n",
    "pprint(scores)"
   ]
  },
  {
   "cell_type": "markdown",
   "metadata": {},
   "source": [
    "`cross_val_predict()` 則會回傳 cv 預測的類別。"
   ]
  },
  {
   "cell_type": "code",
   "execution_count": 117,
   "metadata": {},
   "outputs": [
    {
     "name": "stdout",
     "output_type": "stream",
     "text": [
      "              precision    recall  f1-score   support\n",
      "\n",
      "          兩岸       0.98      0.98      0.98      1790\n",
      "          股市       0.99      0.99      0.99      2487\n",
      "          運動       0.99      0.99      0.99      1438\n",
      "\n",
      "    accuracy                           0.99      5715\n",
      "   macro avg       0.99      0.99      0.99      5715\n",
      "weighted avg       0.99      0.99      0.99      5715\n",
      "\n"
     ]
    }
   ],
   "source": [
    "y_pred = cross_val_predict(clf, vec_train, y_train, cv=5)\n",
    "print(classification_report(y_train, y_pred))"
   ]
  },
  {
   "attachments": {},
   "cell_type": "markdown",
   "metadata": {},
   "source": [
    "## 4. 比較不同模型效果"
   ]
  },
  {
   "cell_type": "code",
   "execution_count": 118,
   "metadata": {
    "scrolled": true
   },
   "outputs": [],
   "source": [
    "# 定義模型訓練組合\n",
    "## pipeline: 資料處理 vectorizer + 分類器 clf\n",
    "## 由於 cross-validation 會自動將資料分成 train/test，因此 input 只要給 X, y 即可\n",
    "\n",
    "def train_cv(vectorizer, clf, X, y):\n",
    "\n",
    "    ## train classifier\n",
    "    vec_X = vectorizer.fit_transform(X).toarray()\n",
    "    \n",
    "    ## get cv results\n",
    "    cv_results = cross_validate(clf, vec_X, y, cv=5, return_estimator=True)\n",
    "    y_pred = cross_val_predict(clf, vec_X, y, cv=5)\n",
    "    y_pred_proba = cross_val_predict(clf, vec_X, y, cv=5, method=\"predict_proba\")\n",
    "    \n",
    "    ## Accuracy, Precision, Recall, F1-score\n",
    "    cls_report = classification_report(y, y_pred, output_dict=True)\n",
    "    print(classification_report(y, y_pred))\n",
    "\n",
    "    classes = cv_results['estimator'][0].classes_\n",
    "    \n",
    "    ## Plot confusion matrix\n",
    "    cm = confusion_matrix(y, y_pred)\n",
    "    fig, ax = plt.subplots()\n",
    "    sns.heatmap(cm, annot=True, fmt=\"d\", ax=ax, cmap=plt.cm.Blues, cbar=False)\n",
    "    ax.set(\n",
    "        xlabel=\"Pred\",\n",
    "        ylabel=\"True\",\n",
    "        xticklabels=classes,\n",
    "        yticklabels=classes,\n",
    "        title= str(clf) + \"Confusion matrix\",\n",
    "    )\n",
    "    plt.yticks(rotation=0)\n",
    "\n",
    "    clf.fit(vec_X, y)\n",
    "    # return the model object\n",
    "    return cls_report"
   ]
  },
  {
   "cell_type": "code",
   "execution_count": 119,
   "metadata": {},
   "outputs": [
    {
     "name": "stdout",
     "output_type": "stream",
     "text": [
      "              precision    recall  f1-score   support\n",
      "\n",
      "          兩岸       0.98      0.98      0.98      1790\n",
      "          股市       0.99      0.99      0.99      2487\n",
      "          運動       0.99      0.99      0.99      1438\n",
      "\n",
      "    accuracy                           0.99      5715\n",
      "   macro avg       0.99      0.99      0.99      5715\n",
      "weighted avg       0.99      0.99      0.99      5715\n",
      "\n"
     ]
    },
    {
     "data": {
      "image/png": "[encoded data removed]",
      "text/plain": [
       "<Figure size 640x480 with 1 Axes>"
      ]
     },
     "metadata": {},
     "output_type": "display_data"
    }
   ],
   "source": [
    "vectorizer = TfidfVectorizer(max_features=1000)\n",
    "clf = LogisticRegression()\n",
    "result = train_cv(vectorizer, clf, X_train, y_train)"
   ]
  },
  {
   "cell_type": "code",
   "execution_count": 120,
   "metadata": {},
   "outputs": [
    {
     "name": "stdout",
     "output_type": "stream",
     "text": [
      "====================================================================================================\n",
      "now training: clf_logistic\n",
      "              precision    recall  f1-score   support\n",
      "\n",
      "          兩岸       0.98      0.98      0.98      1790\n",
      "          股市       0.99      0.99      0.99      2487\n",
      "          運動       0.99      0.99      0.99      1438\n",
      "\n",
      "    accuracy                           0.99      5715\n",
      "   macro avg       0.99      0.99      0.99      5715\n",
      "weighted avg       0.99      0.99      0.99      5715\n",
      "\n",
      "====================================================================================================\n",
      "====================================================================================================\n",
      "now training: clf_dtree\n",
      "              precision    recall  f1-score   support\n",
      "\n",
      "          兩岸       0.93      0.95      0.94      1790\n",
      "          股市       0.96      0.96      0.96      2487\n",
      "          運動       0.96      0.95      0.95      1438\n",
      "\n",
      "    accuracy                           0.95      5715\n",
      "   macro avg       0.95      0.95      0.95      5715\n",
      "weighted avg       0.95      0.95      0.95      5715\n",
      "\n",
      "====================================================================================================\n",
      "====================================================================================================\n",
      "now training: clf_svm\n",
      "              precision    recall  f1-score   support\n",
      "\n",
      "          兩岸       0.98      0.99      0.98      1790\n",
      "          股市       0.99      0.99      0.99      2487\n",
      "          運動       0.99      0.99      0.99      1438\n",
      "\n",
      "    accuracy                           0.99      5715\n",
      "   macro avg       0.99      0.99      0.99      5715\n",
      "weighted avg       0.99      0.99      0.99      5715\n",
      "\n",
      "====================================================================================================\n",
      "====================================================================================================\n",
      "now training: clf_rf\n",
      "              precision    recall  f1-score   support\n",
      "\n",
      "          兩岸       0.99      0.98      0.98      1790\n",
      "          股市       0.99      0.99      0.99      2487\n",
      "          運動       0.99      0.99      0.99      1438\n",
      "\n",
      "    accuracy                           0.99      5715\n",
      "   macro avg       0.99      0.99      0.99      5715\n",
      "weighted avg       0.99      0.99      0.99      5715\n",
      "\n",
      "====================================================================================================\n"
     ]
    },
    {
     "data": {
      "image/png": "[encoded data removed]",
      "text/plain": [
       "<Figure size 640x480 with 1 Axes>"
      ]
     },
     "metadata": {},
     "output_type": "display_data"
    },
    {
     "data": {
      "image/png": "[encoded data removed]",
      "text/plain": [
       "<Figure size 640x480 with 1 Axes>"
      ]
     },
     "metadata": {},
     "output_type": "display_data"
    },
    {
     "data": {
      "image/png": "[encoded data removed]",
      "text/plain": [
       "<Figure size 640x480 with 1 Axes>"
      ]
     },
     "metadata": {},
     "output_type": "display_data"
    },
    {
     "data": {
      "image/png": "[encoded data removed]",
      "text/plain": [
       "<Figure size 640x480 with 1 Axes>"
      ]
     },
     "metadata": {},
     "output_type": "display_data"
    }
   ],
   "source": [
    "# 準備訓練資料\n",
    "X = data[\"words\"]\n",
    "y = data[\"artCatagory\"]\n",
    "\n",
    "# 把整個資料集七三切\n",
    "X_train, X_test, y_train, y_test = train_test_split(\n",
    "    X, y, test_size=0.3, random_state=777\n",
    ")\n",
    "# 定義模型訓練組合\n",
    "model_set = dict()\n",
    "model_set['clf_logistic'] = LogisticRegression()\n",
    "model_set['clf_dtree'] = DecisionTreeClassifier()\n",
    "model_set['clf_svm'] = svm.SVC(probability=True) # 要使用SVM的predict_proba的話，必須在叫出SVC的時候就將probability設為True\n",
    "model_set['clf_rf'] = RandomForestClassifier()\n",
    "# 定義 vectorizer\n",
    "# vectorizer = CountVectorizer(max_features=1000)\n",
    "vectorizer = TfidfVectorizer(max_features=1000)\n",
    "# 存結果\n",
    "result_set = dict()\n",
    "\n",
    "for k, model in model_set.items():\n",
    "    print(\"=\"*100)\n",
    "    print(f\"now training: {k}\")\n",
    "    result_set[k] = train_cv(vectorizer, model, X_train, y_train)\n",
    "    print(\"=\"*100)\n"
   ]
  },
  {
   "cell_type": "code",
   "execution_count": 121,
   "metadata": {},
   "outputs": [
    {
     "data": {
      "text/plain": [
       "{'兩岸': {'precision': 0.9843225083986562,\n",
       "  'recall': 0.982122905027933,\n",
       "  'f1-score': 0.9832214765100671,\n",
       "  'support': 1790.0},\n",
       " '股市': {'precision': 0.9911611088790679,\n",
       "  'recall': 0.9919581825492562,\n",
       "  'f1-score': 0.9915594855305466,\n",
       "  'support': 2487.0},\n",
       " '運動': {'precision': 0.9916666666666667,\n",
       "  'recall': 0.9930458970792768,\n",
       "  'f1-score': 0.9923558026407228,\n",
       "  'support': 1438.0},\n",
       " 'accuracy': 0.98915135608049,\n",
       " 'macro avg': {'precision': 0.9890500946481303,\n",
       "  'recall': 0.989042328218822,\n",
       "  'f1-score': 0.9890455882271122,\n",
       "  'support': 5715.0},\n",
       " 'weighted avg': {'precision': 0.9891463927353461,\n",
       "  'recall': 0.98915135608049,\n",
       "  'f1-score': 0.9891482988039979,\n",
       "  'support': 5715.0}}"
      ]
     },
     "execution_count": 121,
     "metadata": {},
     "output_type": "execute_result"
    }
   ],
   "source": [
    "result_set['clf_logistic']"
   ]
  },
  {
   "cell_type": "code",
   "execution_count": 122,
   "metadata": {},
   "outputs": [
    {
     "name": "stdout",
     "output_type": "stream",
     "text": [
      "best model: clf_svm\n",
      "{'accuracy': 0.9902012248468941,\n",
      " 'macro avg': {'f1-score': 0.9900133539123009,\n",
      "               'precision': 0.9899138914663993,\n",
      "               'recall': 0.9901140629631778,\n",
      "               'support': 5715.0},\n",
      " 'weighted avg': {'f1-score': 0.9902039627308911,\n",
      "                  'precision': 0.9902080288199221,\n",
      "                  'recall': 0.9902012248468941,\n",
      "                  'support': 5715.0},\n",
      " '兩岸': {'f1-score': 0.9849330357142857,\n",
      "        'precision': 0.9838350055741361,\n",
      "        'recall': 0.9860335195530726,\n",
      "        'support': 1790.0},\n",
      " '股市': {'f1-score': 0.9927565392354125,\n",
      "        'precision': 0.9935561820378574,\n",
      "        'recall': 0.9919581825492562,\n",
      "        'support': 2487.0},\n",
      " '運動': {'f1-score': 0.9923504867872045,\n",
      "        'precision': 0.9923504867872045,\n",
      "        'recall': 0.9923504867872045,\n",
      "        'support': 1438.0}}\n"
     ]
    }
   ],
   "source": [
    "max = 0\n",
    "best_model_name = \"\"\n",
    "best_model_metric = \"f1-score\"\n",
    "\n",
    "## choose max f1-score model from result_set\n",
    "for k, v in result_set.items():\n",
    "    if v['weighted avg'][best_model_metric] > max:\n",
    "        max = v['weighted avg'][best_model_metric]\n",
    "        best_model_name = k\n",
    "print(f\"best model: {best_model_name}\")\n",
    "pprint(result_set[best_model_name])"
   ]
  },
  {
   "cell_type": "code",
   "execution_count": 127,
   "metadata": {},
   "outputs": [
    {
     "name": "stdout",
     "output_type": "stream",
     "text": [
      "              precision    recall  f1-score   support\n",
      "\n",
      "          兩岸       0.99      0.98      0.98       758\n",
      "          股市       0.99      0.99      0.99      1077\n",
      "          運動       0.99      0.99      0.99       615\n",
      "\n",
      "    accuracy                           0.99      2450\n",
      "   macro avg       0.99      0.99      0.99      2450\n",
      "weighted avg       0.99      0.99      0.99      2450\n",
      "\n"
     ]
    }
   ],
   "source": [
    "y_pred = model_set['clf_svm'].predict(vectorizer.transform(X_test).toarray())\n",
    "print(classification_report(y_test, y_pred))"
   ]
  },
  {
   "cell_type": "code",
   "execution_count": 129,
   "metadata": {},
   "outputs": [
    {
     "data": {
      "text/plain": [
       "array(['股市'], dtype=object)"
      ]
     },
     "execution_count": 129,
     "metadata": {},
     "output_type": "execute_result"
    }
   ],
   "source": [
    "model_set['clf_svm'].predict(vectorizer.transform([\"長榮 00940 台積電\"]).toarray())"
   ]
  },
  {
   "attachments": {},
   "cell_type": "markdown",
   "metadata": {},
   "source": [
    "* 最佳的 model 為 SVM，其中 Decision Tree 的表現較差外，其餘三個 model （Logistic、SVM、Random Forest）表現差不多。\n",
    "* 另外也可以嘗試用直接的詞頻表作為 `vectorizer`，比較看看相較 tfidf，是否效果更好。"
   ]
  },
  {
   "attachments": {},
   "cell_type": "markdown",
   "metadata": {},
   "source": [
    "## 5. 分析可解釋模型的結果"
   ]
  },
  {
   "attachments": {},
   "cell_type": "markdown",
   "metadata": {},
   "source": [
    "### 5.1 各字詞特徵的estimate係數\n",
    "對於線性的模型，可以藉由相關係數，查看資料特徵（詞）對於判斷分類的影響\n",
    "+ coefficient estimate 代表特徵每增加一單位（在此處會是該文章的某字詞頻 +1），y是1的發生機率比y是0的發生機率多幾倍（odds ratio 勝算比）\n",
    "+ 這裡舉logistic regression + cv tokenizer 為例"
   ]
  },
  {
   "cell_type": "code",
   "execution_count": 137,
   "metadata": {},
   "outputs": [],
   "source": [
    "def plot_coef(logistic_reg_model, feature_names, top_n=10):\n",
    "    # 選出某個類別的前10大影響力字詞\n",
    "    log_odds = logistic_reg_model.coef_.T\n",
    "    coef_df = pd.DataFrame(\n",
    "        log_odds, \n",
    "        columns=logistic_reg_model.classes_, index=feature_names\n",
    "    )\n",
    "    for label in coef_df.columns:\n",
    "        select_words = (\n",
    "            coef_df[[label]]\n",
    "            .sort_values(by=label, ascending=False)\n",
    "            .iloc[np.r_[0:top_n, -top_n:0]]\n",
    "        )\n",
    "        word = select_words.index\n",
    "        count = select_words[label]\n",
    "        category_colors = np.where(\n",
    "            select_words[label] >= 0, \"darkseagreen\", \"rosybrown\"\n",
    "        )  # 設定顏色\n",
    "\n",
    "        fig, ax = plt.subplots(figsize=(8, top_n*0.8))  # 設定畫布\n",
    "        plt.rcParams[\"axes.unicode_minus\"] = False\n",
    "\n",
    "        ax.barh(word, count, color=category_colors)\n",
    "        ax.invert_yaxis()\n",
    "        ax.set_title(\n",
    "            \"Coeff increase/decrease odds ratio of 「\" + label + \"」 label the most\",\n",
    "            loc=\"left\",\n",
    "            size=16,\n",
    "        )\n",
    "        ax.set_ylabel(\"word\", size=14)\n",
    "        ax.set_xlabel(\"odds ratio\", size=14)"
   ]
  },
  {
   "cell_type": "code",
   "execution_count": 138,
   "metadata": {},
   "outputs": [
    {
     "data": {
      "image/png": "[encoded data removed]",
      "text/plain": [
       "<Figure size 800x800 with 1 Axes>"
      ]
     },
     "metadata": {},
     "output_type": "display_data"
    },
    {
     "data": {
      "image/png": "[encoded data removed]",
      "text/plain": [
       "<Figure size 800x800 with 1 Axes>"
      ]
     },
     "metadata": {},
     "output_type": "display_data"
    },
    {
     "data": {
      "image/png": "[encoded data removed]",
      "text/plain": [
       "<Figure size 800x800 with 1 Axes>"
      ]
     },
     "metadata": {},
     "output_type": "display_data"
    }
   ],
   "source": [
    "plot_coef(logistic_reg_model=model_set['clf_logistic'], feature_names=vectorizer.get_feature_names_out(), top_n=10)"
   ]
  },
  {
   "attachments": {},
   "cell_type": "markdown",
   "metadata": {},
   "source": [
    "「全球」中出現了川普、美國、英國等國際新聞關鍵字；「兩岸」中高係數的字是與中國有關的大陸、中國、人民幣；「股市」則是台股、期貨相關的字；「運動」是比賽、球員、聯盟相關字。"
   ]
  },
  {
   "attachments": {},
   "cell_type": "markdown",
   "metadata": {},
   "source": [
    "## 6. 預測新聞類別"
   ]
  },
  {
   "cell_type": "markdown",
   "metadata": {},
   "source": [
    "`ebc_news_202403.csv` 為東森新聞網資料\n",
    "- 版別：財經、國際、體育、（政治、兩岸）\n",
    "- 時間範圍：2024/03/01 ~ 2024/03/30\n",
    "- 工作流程平台搜尋/排除關鍵字：無"
   ]
  },
  {
   "cell_type": "code",
   "execution_count": 139,
   "metadata": {},
   "outputs": [
    {
     "data": {
      "text/html": [
       "<div>\n",
       "<style scoped>\n",
       "    .dataframe tbody tr th:only-of-type {\n",
       "        vertical-align: middle;\n",
       "    }\n",
       "\n",
       "    .dataframe tbody tr th {\n",
       "        vertical-align: top;\n",
       "    }\n",
       "\n",
       "    .dataframe thead th {\n",
       "        text-align: right;\n",
       "    }\n",
       "</style>\n",
       "<table border=\"1\" class=\"dataframe\">\n",
       "  <thead>\n",
       "    <tr style=\"text-align: right;\">\n",
       "      <th></th>\n",
       "      <th>system_id</th>\n",
       "      <th>artTitle</th>\n",
       "      <th>artDate</th>\n",
       "      <th>artCatagory</th>\n",
       "      <th>artUrl</th>\n",
       "      <th>artContent</th>\n",
       "      <th>dataSource</th>\n",
       "    </tr>\n",
       "  </thead>\n",
       "  <tbody>\n",
       "    <tr>\n",
       "      <th>0</th>\n",
       "      <td>1</td>\n",
       "      <td>MLB／大谷明出面說明水原涉賭案！事件爆發一周後將打破沉默</td>\n",
       "      <td>3/25/2024 8:05</td>\n",
       "      <td>運動</td>\n",
       "      <td>https://udn.com/news/story/11247/7853590</td>\n",
       "      <td>日本放送協會報導，道奇隊日本球星大谷翔平於美國時間24日表示，將在25日向外界說明前任專屬翻...</td>\n",
       "      <td>UDN</td>\n",
       "    </tr>\n",
       "    <tr>\n",
       "      <th>1</th>\n",
       "      <td>2</td>\n",
       "      <td>MLB／大谷翔平自行決定26日受訪談水原 道奇教頭盼真相大白</td>\n",
       "      <td>3/25/2024 9:06</td>\n",
       "      <td>運動</td>\n",
       "      <td>https://udn.com/news/story/11247/7853630</td>\n",
       "      <td>沉默數日，大谷翔平今天走進休息室向媒體預告，自己將在明天受訪首度談論前翻譯水原一平涉賭事件，...</td>\n",
       "      <td>UDN</td>\n",
       "    </tr>\n",
       "    <tr>\n",
       "      <th>2</th>\n",
       "      <td>3</td>\n",
       "      <td>MLB／水原一平紅襪資歷確定是假的 岡島秀樹發文證實</td>\n",
       "      <td>3/25/2024 12:37</td>\n",
       "      <td>運動</td>\n",
       "      <td>https://udn.com/news/story/11247/7854089</td>\n",
       "      <td>道奇隊日籍球星大谷翔平的前翻譯水原一平涉嫌簽賭，近日他的個人經歷被挖出，紅襪球團表示從未聘任...</td>\n",
       "      <td>UDN</td>\n",
       "    </tr>\n",
       "    <tr>\n",
       "      <th>3</th>\n",
       "      <td>4</td>\n",
       "      <td>MLB／水原涉賭 大谷今首度出面說明</td>\n",
       "      <td>3/26/2024 0:40</td>\n",
       "      <td>運動</td>\n",
       "      <td>https://udn.com/news/story/11247/7855692</td>\n",
       "      <td>道奇隊結束南韓首爾海外開幕戰，回到美國本土繼續進行熱身賽，昨對天使隊展開3連戰首戰，大谷翔平...</td>\n",
       "      <td>UDN</td>\n",
       "    </tr>\n",
       "    <tr>\n",
       "      <th>4</th>\n",
       "      <td>5</td>\n",
       "      <td>MLB／我從未簽賭！大谷還原時間軸 說明水原涉賭案</td>\n",
       "      <td>3/26/2024 6:46</td>\n",
       "      <td>運動</td>\n",
       "      <td>https://udn.com/news/story/11247/7855935</td>\n",
       "      <td>美國有線電視新聞網（CNN）報導，美國當地時間25日，職棒大聯盟MLB洛杉磯道奇球星大谷翔平...</td>\n",
       "      <td>UDN</td>\n",
       "    </tr>\n",
       "    <tr>\n",
       "      <th>...</th>\n",
       "      <td>...</td>\n",
       "      <td>...</td>\n",
       "      <td>...</td>\n",
       "      <td>...</td>\n",
       "      <td>...</td>\n",
       "      <td>...</td>\n",
       "      <td>...</td>\n",
       "    </tr>\n",
       "    <tr>\n",
       "      <th>2810</th>\n",
       "      <td>2811</td>\n",
       "      <td>奇葩設計！大陸這所學校「男廁設在女廁裡」 校方遭砲轟淡定回應</td>\n",
       "      <td>4/5/2024 15:01</td>\n",
       "      <td>兩岸</td>\n",
       "      <td>https://udn.com/news/story/7335/7879596</td>\n",
       "      <td>近日有學生發影片「抽水」大陸長春理工大學一廁所設計「真逆天」，男廁所竟是設在女廁所裡面，想進...</td>\n",
       "      <td>UDN</td>\n",
       "    </tr>\n",
       "    <tr>\n",
       "      <th>2811</th>\n",
       "      <td>2812</td>\n",
       "      <td>控前妻婚內出軌...綠帽男悲憤挖對方父母墳墓 遭告上法院下場曝光</td>\n",
       "      <td>4/5/2024 16:00</td>\n",
       "      <td>兩岸</td>\n",
       "      <td>https://udn.com/news/story/7335/7879615</td>\n",
       "      <td>一名大陸男子因情感問題，醉酒後挖掘前妻父母的墳墓，最終被法院判決支付前妻精神損害賠償。根據陸...</td>\n",
       "      <td>UDN</td>\n",
       "    </tr>\n",
       "    <tr>\n",
       "      <th>2812</th>\n",
       "      <td>2813</td>\n",
       "      <td>清明連假人潮湧入！山東趵突泉寸步難行 保全「驚恐抱柱」險落水</td>\n",
       "      <td>4/6/2024 9:25</td>\n",
       "      <td>兩岸</td>\n",
       "      <td>https://udn.com/news/story/7335/7880586</td>\n",
       "      <td>周四（4日）是中國清明假期的首日，各大景區迎來客流高峰。位於山東濟南的趵突泉景區，有一名保全...</td>\n",
       "      <td>UDN</td>\n",
       "    </tr>\n",
       "    <tr>\n",
       "      <th>2813</th>\n",
       "      <td>2814</td>\n",
       "      <td>太缺德！大樓住戶裝「探照燈」亮整天 強光直射他家超崩潰</td>\n",
       "      <td>4/6/2024 10:04</td>\n",
       "      <td>兩岸</td>\n",
       "      <td>https://udn.com/news/story/7335/7880590</td>\n",
       "      <td>已所不欲，物施於人，這樣擾鄰的行為真的好嗎？有香港黃大仙居民近日在網上發文，抱怨對面大樓的住...</td>\n",
       "      <td>UDN</td>\n",
       "    </tr>\n",
       "    <tr>\n",
       "      <th>2814</th>\n",
       "      <td>2815</td>\n",
       "      <td>魔音穿腦「成都迪士尼」吵到居民崩潰</td>\n",
       "      <td>4/6/2024 14:23</td>\n",
       "      <td>兩岸</td>\n",
       "      <td>https://udn.com/news/story/7335/7881093</td>\n",
       "      <td>話題「成都迪士尼」空降熱搜，截稿前相關話題閱讀量已達到4359萬。不少點進來的網友好奇的問：...</td>\n",
       "      <td>UDN</td>\n",
       "    </tr>\n",
       "  </tbody>\n",
       "</table>\n",
       "<p>2815 rows × 7 columns</p>\n",
       "</div>"
      ],
      "text/plain": [
       "      system_id                          artTitle          artDate  \\\n",
       "0             1     MLB／大谷明出面說明水原涉賭案！事件爆發一周後將打破沉默   3/25/2024 8:05   \n",
       "1             2    MLB／大谷翔平自行決定26日受訪談水原 道奇教頭盼真相大白   3/25/2024 9:06   \n",
       "2             3        MLB／水原一平紅襪資歷確定是假的 岡島秀樹發文證實  3/25/2024 12:37   \n",
       "3             4                MLB／水原涉賭 大谷今首度出面說明   3/26/2024 0:40   \n",
       "4             5         MLB／我從未簽賭！大谷還原時間軸 說明水原涉賭案   3/26/2024 6:46   \n",
       "...         ...                               ...              ...   \n",
       "2810       2811    奇葩設計！大陸這所學校「男廁設在女廁裡」 校方遭砲轟淡定回應   4/5/2024 15:01   \n",
       "2811       2812  控前妻婚內出軌...綠帽男悲憤挖對方父母墳墓 遭告上法院下場曝光   4/5/2024 16:00   \n",
       "2812       2813    清明連假人潮湧入！山東趵突泉寸步難行 保全「驚恐抱柱」險落水    4/6/2024 9:25   \n",
       "2813       2814       太缺德！大樓住戶裝「探照燈」亮整天 強光直射他家超崩潰   4/6/2024 10:04   \n",
       "2814       2815                 魔音穿腦「成都迪士尼」吵到居民崩潰   4/6/2024 14:23   \n",
       "\n",
       "     artCatagory                                    artUrl  \\\n",
       "0             運動  https://udn.com/news/story/11247/7853590   \n",
       "1             運動  https://udn.com/news/story/11247/7853630   \n",
       "2             運動  https://udn.com/news/story/11247/7854089   \n",
       "3             運動  https://udn.com/news/story/11247/7855692   \n",
       "4             運動  https://udn.com/news/story/11247/7855935   \n",
       "...          ...                                       ...   \n",
       "2810          兩岸   https://udn.com/news/story/7335/7879596   \n",
       "2811          兩岸   https://udn.com/news/story/7335/7879615   \n",
       "2812          兩岸   https://udn.com/news/story/7335/7880586   \n",
       "2813          兩岸   https://udn.com/news/story/7335/7880590   \n",
       "2814          兩岸   https://udn.com/news/story/7335/7881093   \n",
       "\n",
       "                                             artContent dataSource  \n",
       "0     日本放送協會報導，道奇隊日本球星大谷翔平於美國時間24日表示，將在25日向外界說明前任專屬翻...        UDN  \n",
       "1     沉默數日，大谷翔平今天走進休息室向媒體預告，自己將在明天受訪首度談論前翻譯水原一平涉賭事件，...        UDN  \n",
       "2     道奇隊日籍球星大谷翔平的前翻譯水原一平涉嫌簽賭，近日他的個人經歷被挖出，紅襪球團表示從未聘任...        UDN  \n",
       "3     道奇隊結束南韓首爾海外開幕戰，回到美國本土繼續進行熱身賽，昨對天使隊展開3連戰首戰，大谷翔平...        UDN  \n",
       "4     美國有線電視新聞網（CNN）報導，美國當地時間25日，職棒大聯盟MLB洛杉磯道奇球星大谷翔平...        UDN  \n",
       "...                                                 ...        ...  \n",
       "2810  近日有學生發影片「抽水」大陸長春理工大學一廁所設計「真逆天」，男廁所竟是設在女廁所裡面，想進...        UDN  \n",
       "2811  一名大陸男子因情感問題，醉酒後挖掘前妻父母的墳墓，最終被法院判決支付前妻精神損害賠償。根據陸...        UDN  \n",
       "2812  周四（4日）是中國清明假期的首日，各大景區迎來客流高峰。位於山東濟南的趵突泉景區，有一名保全...        UDN  \n",
       "2813  已所不欲，物施於人，這樣擾鄰的行為真的好嗎？有香港黃大仙居民近日在網上發文，抱怨對面大樓的住...        UDN  \n",
       "2814  話題「成都迪士尼」空降熱搜，截稿前相關話題閱讀量已達到4359萬。不少點進來的網友好奇的問：...        UDN  \n",
       "\n",
       "[2815 rows x 7 columns]"
      ]
     },
     "execution_count": 139,
     "metadata": {},
     "output_type": "execute_result"
    }
   ],
   "source": [
    "ct = pd.read_csv(\"./raw_data/group3_inference.csv\")\n",
    "ct.dropna(inplace=True)\n",
    "ct"
   ]
  },
  {
   "cell_type": "code",
   "execution_count": 140,
   "metadata": {},
   "outputs": [
    {
     "data": {
      "text/html": [
       "<div>\n",
       "<style scoped>\n",
       "    .dataframe tbody tr th:only-of-type {\n",
       "        vertical-align: middle;\n",
       "    }\n",
       "\n",
       "    .dataframe tbody tr th {\n",
       "        vertical-align: top;\n",
       "    }\n",
       "\n",
       "    .dataframe thead th {\n",
       "        text-align: right;\n",
       "    }\n",
       "</style>\n",
       "<table border=\"1\" class=\"dataframe\">\n",
       "  <thead>\n",
       "    <tr style=\"text-align: right;\">\n",
       "      <th></th>\n",
       "      <th>content</th>\n",
       "      <th>artUrl</th>\n",
       "      <th>artCatagory</th>\n",
       "      <th>words</th>\n",
       "    </tr>\n",
       "  </thead>\n",
       "  <tbody>\n",
       "    <tr>\n",
       "      <th>0</th>\n",
       "      <td>MLB／大谷明出面說明水原涉賭案！事件爆發一周後將打破沉默日本放送協會報導，道奇隊日本球星大...</td>\n",
       "      <td>https://udn.com/news/story/11247/7853590</td>\n",
       "      <td>運動</td>\n",
       "      <td>MLB 大谷 出面 說明 水原 涉賭 事件 爆發 一周 後將 打破 沉默 日本 放送 協會 ...</td>\n",
       "    </tr>\n",
       "    <tr>\n",
       "      <th>1</th>\n",
       "      <td>MLB／大谷翔平自行決定26日受訪談水原 道奇教頭盼真相大白沉默數日，大谷翔平今天走進休息室...</td>\n",
       "      <td>https://udn.com/news/story/11247/7853630</td>\n",
       "      <td>運動</td>\n",
       "      <td>MLB 大谷 翔平 自行決定 26 日受 訪談 水原 道奇 教頭 真相大白 沉默 數日 大谷...</td>\n",
       "    </tr>\n",
       "    <tr>\n",
       "      <th>2</th>\n",
       "      <td>MLB／水原一平紅襪資歷確定是假的 岡島秀樹發文證實道奇隊日籍球星大谷翔平的前翻譯水原一平涉...</td>\n",
       "      <td>https://udn.com/news/story/11247/7854089</td>\n",
       "      <td>運動</td>\n",
       "      <td>MLB 水原 一平紅襪 資歷 確定 岡島 秀樹 發文 證實 道奇 日籍 球星 大谷 翔平 翻...</td>\n",
       "    </tr>\n",
       "    <tr>\n",
       "      <th>3</th>\n",
       "      <td>MLB／水原涉賭 大谷今首度出面說明道奇隊結束南韓首爾海外開幕戰，回到美國本土繼續進行熱身賽...</td>\n",
       "      <td>https://udn.com/news/story/11247/7855692</td>\n",
       "      <td>運動</td>\n",
       "      <td>MLB 水原 涉賭 大谷 首度 出面 說明 道奇 結束 南韓 首爾 海外 開幕 回到 美國 ...</td>\n",
       "    </tr>\n",
       "    <tr>\n",
       "      <th>4</th>\n",
       "      <td>MLB／我從未簽賭！大谷還原時間軸 說明水原涉賭案美國有線電視新聞網（CNN）報導，美國當地...</td>\n",
       "      <td>https://udn.com/news/story/11247/7855935</td>\n",
       "      <td>運動</td>\n",
       "      <td>MLB 簽賭 大谷 還原 時間軸 說明 水原 涉賭 美國有線電視新聞網 CNN 報導 美國 ...</td>\n",
       "    </tr>\n",
       "  </tbody>\n",
       "</table>\n",
       "</div>"
      ],
      "text/plain": [
       "                                             content  \\\n",
       "0  MLB／大谷明出面說明水原涉賭案！事件爆發一周後將打破沉默日本放送協會報導，道奇隊日本球星大...   \n",
       "1  MLB／大谷翔平自行決定26日受訪談水原 道奇教頭盼真相大白沉默數日，大谷翔平今天走進休息室...   \n",
       "2  MLB／水原一平紅襪資歷確定是假的 岡島秀樹發文證實道奇隊日籍球星大谷翔平的前翻譯水原一平涉...   \n",
       "3  MLB／水原涉賭 大谷今首度出面說明道奇隊結束南韓首爾海外開幕戰，回到美國本土繼續進行熱身賽...   \n",
       "4  MLB／我從未簽賭！大谷還原時間軸 說明水原涉賭案美國有線電視新聞網（CNN）報導，美國當地...   \n",
       "\n",
       "                                     artUrl artCatagory  \\\n",
       "0  https://udn.com/news/story/11247/7853590          運動   \n",
       "1  https://udn.com/news/story/11247/7853630          運動   \n",
       "2  https://udn.com/news/story/11247/7854089          運動   \n",
       "3  https://udn.com/news/story/11247/7855692          運動   \n",
       "4  https://udn.com/news/story/11247/7855935          運動   \n",
       "\n",
       "                                               words  \n",
       "0  MLB 大谷 出面 說明 水原 涉賭 事件 爆發 一周 後將 打破 沉默 日本 放送 協會 ...  \n",
       "1  MLB 大谷 翔平 自行決定 26 日受 訪談 水原 道奇 教頭 真相大白 沉默 數日 大谷...  \n",
       "2  MLB 水原 一平紅襪 資歷 確定 岡島 秀樹 發文 證實 道奇 日籍 球星 大谷 翔平 翻...  \n",
       "3  MLB 水原 涉賭 大谷 首度 出面 說明 道奇 結束 南韓 首爾 海外 開幕 回到 美國 ...  \n",
       "4  MLB 簽賭 大谷 還原 時間軸 說明 水原 涉賭 美國有線電視新聞網 CNN 報導 美國 ...  "
      ]
     },
     "execution_count": 140,
     "metadata": {},
     "output_type": "execute_result"
    }
   ],
   "source": [
    "# 移除網址格式\n",
    "ct[\"artContent\"].str.replace(\"(http|https)://.*\", \"\", regex=True)\n",
    "ct[\"artTitle\"].str.replace(\"(http|https)://.*\", \"\", regex=True)\n",
    "ct[\"artContent\"].str.replace(\"[^\\u4e00-\\u9fa5]+\", \"\", regex=True)\n",
    "ct[\"artTitle\"].str.replace(\"[^\\u4e00-\\u9fa5]+\", \"\", regex=True)\n",
    "\n",
    "# 留下 content\n",
    "ct[\"content\"] = ct[\"artTitle\"] + ct[\"artContent\"]\n",
    "ct = ct.loc[:,[\"content\", \"artUrl\", \"artCatagory\"]]  # 文章內容 文章連結\n",
    "\n",
    "# 設定斷詞 function\n",
    "def getToken(row):\n",
    "    seg_list = jieba.cut(row, cut_all=False)\n",
    "    seg_list = [\n",
    "        w for w in seg_list if w not in stopWords and len(w) > 1\n",
    "    ]  # 篩選掉停用字與字元數大於1的詞彙\n",
    "    return seg_list\n",
    "\n",
    "ct[\"words\"] = ct[\"content\"].apply(getToken).map(\" \".join)\n",
    "ct.head()"
   ]
  },
  {
   "cell_type": "code",
   "execution_count": 141,
   "metadata": {},
   "outputs": [
    {
     "data": {
      "text/plain": [
       "artCatagory\n",
       "股市    1059\n",
       "兩岸     939\n",
       "運動     817\n",
       "Name: count, dtype: int64"
      ]
     },
     "execution_count": 141,
     "metadata": {},
     "output_type": "execute_result"
    }
   ],
   "source": [
    "ct['artCatagory'].value_counts()"
   ]
  },
  {
   "cell_type": "code",
   "execution_count": 142,
   "metadata": {},
   "outputs": [
    {
     "name": "stdout",
     "output_type": "stream",
     "text": [
      "              precision    recall  f1-score   support\n",
      "\n",
      "          兩岸       0.98      0.99      0.99       939\n",
      "          股市       0.99      0.99      0.99      1059\n",
      "          運動       0.99      0.99      0.99       817\n",
      "\n",
      "    accuracy                           0.99      2815\n",
      "   macro avg       0.99      0.99      0.99      2815\n",
      "weighted avg       0.99      0.99      0.99      2815\n",
      "\n"
     ]
    }
   ],
   "source": [
    "mapper = {\"股市\":\"股市\", \"兩岸\":\"兩岸\", \"運動\":\"運動\"}\n",
    "ct['artCatagory'] = ct['artCatagory'].map(mapper)\n",
    "\n",
    "X = ct['words']\n",
    "y = ct['artCatagory']\n",
    "\n",
    "y_pred = model_set[best_model_name].predict(vectorizer.transform(X).toarray())\n",
    "print(classification_report(y, y_pred))"
   ]
  },
  {
   "cell_type": "code",
   "execution_count": 143,
   "metadata": {},
   "outputs": [
    {
     "data": {
      "text/html": [
       "<div>\n",
       "<style scoped>\n",
       "    .dataframe tbody tr th:only-of-type {\n",
       "        vertical-align: middle;\n",
       "    }\n",
       "\n",
       "    .dataframe tbody tr th {\n",
       "        vertical-align: top;\n",
       "    }\n",
       "\n",
       "    .dataframe thead th {\n",
       "        text-align: right;\n",
       "    }\n",
       "</style>\n",
       "<table border=\"1\" class=\"dataframe\">\n",
       "  <thead>\n",
       "    <tr style=\"text-align: right;\">\n",
       "      <th></th>\n",
       "      <th>words</th>\n",
       "      <th>artCatagory</th>\n",
       "      <th>pred</th>\n",
       "    </tr>\n",
       "  </thead>\n",
       "  <tbody>\n",
       "    <tr>\n",
       "      <th>0</th>\n",
       "      <td>MLB 大谷 出面 說明 水原 涉賭 事件 爆發 一周 後將 打破 沉默 日本 放送 協會 ...</td>\n",
       "      <td>運動</td>\n",
       "      <td>運動</td>\n",
       "    </tr>\n",
       "    <tr>\n",
       "      <th>1</th>\n",
       "      <td>MLB 大谷 翔平 自行決定 26 日受 訪談 水原 道奇 教頭 真相大白 沉默 數日 大谷...</td>\n",
       "      <td>運動</td>\n",
       "      <td>運動</td>\n",
       "    </tr>\n",
       "    <tr>\n",
       "      <th>2</th>\n",
       "      <td>MLB 水原 一平紅襪 資歷 確定 岡島 秀樹 發文 證實 道奇 日籍 球星 大谷 翔平 翻...</td>\n",
       "      <td>運動</td>\n",
       "      <td>運動</td>\n",
       "    </tr>\n",
       "    <tr>\n",
       "      <th>3</th>\n",
       "      <td>MLB 水原 涉賭 大谷 首度 出面 說明 道奇 結束 南韓 首爾 海外 開幕 回到 美國 ...</td>\n",
       "      <td>運動</td>\n",
       "      <td>運動</td>\n",
       "    </tr>\n",
       "    <tr>\n",
       "      <th>4</th>\n",
       "      <td>MLB 簽賭 大谷 還原 時間軸 說明 水原 涉賭 美國有線電視新聞網 CNN 報導 美國 ...</td>\n",
       "      <td>運動</td>\n",
       "      <td>運動</td>\n",
       "    </tr>\n",
       "    <tr>\n",
       "      <th>...</th>\n",
       "      <td>...</td>\n",
       "      <td>...</td>\n",
       "      <td>...</td>\n",
       "    </tr>\n",
       "    <tr>\n",
       "      <th>2810</th>\n",
       "      <td>奇葩 設計 大陸 這所 學校 男廁 設在 女廁 校方 轟淡定 回應 近日 學生 影片 抽水 ...</td>\n",
       "      <td>兩岸</td>\n",
       "      <td>兩岸</td>\n",
       "    </tr>\n",
       "    <tr>\n",
       "      <th>2811</th>\n",
       "      <td>前妻 婚內 出軌 綠帽 悲憤 對方 父母 墳墓 遭告 法院 下場 曝光 一名 大陸 男子 情...</td>\n",
       "      <td>兩岸</td>\n",
       "      <td>兩岸</td>\n",
       "    </tr>\n",
       "    <tr>\n",
       "      <th>2812</th>\n",
       "      <td>清明 連假 人潮 湧入 山東 趵突泉 寸步難行 保全 驚恐 抱柱 落水 周四 中國 清明 假...</td>\n",
       "      <td>兩岸</td>\n",
       "      <td>兩岸</td>\n",
       "    </tr>\n",
       "    <tr>\n",
       "      <th>2813</th>\n",
       "      <td>缺德 大樓住戶 探照燈 整天 強光 直射 他家 崩潰 物施 擾鄰 行為 真的 香港 黃大仙 ...</td>\n",
       "      <td>兩岸</td>\n",
       "      <td>兩岸</td>\n",
       "    </tr>\n",
       "    <tr>\n",
       "      <th>2814</th>\n",
       "      <td>魔音穿腦 成都 迪士尼 吵到 居民 崩潰 話題 成都 迪士尼 降熱 截稿 相關 話題 閱讀 ...</td>\n",
       "      <td>兩岸</td>\n",
       "      <td>兩岸</td>\n",
       "    </tr>\n",
       "  </tbody>\n",
       "</table>\n",
       "<p>2815 rows × 3 columns</p>\n",
       "</div>"
      ],
      "text/plain": [
       "                                                  words artCatagory pred\n",
       "0     MLB 大谷 出面 說明 水原 涉賭 事件 爆發 一周 後將 打破 沉默 日本 放送 協會 ...          運動   運動\n",
       "1     MLB 大谷 翔平 自行決定 26 日受 訪談 水原 道奇 教頭 真相大白 沉默 數日 大谷...          運動   運動\n",
       "2     MLB 水原 一平紅襪 資歷 確定 岡島 秀樹 發文 證實 道奇 日籍 球星 大谷 翔平 翻...          運動   運動\n",
       "3     MLB 水原 涉賭 大谷 首度 出面 說明 道奇 結束 南韓 首爾 海外 開幕 回到 美國 ...          運動   運動\n",
       "4     MLB 簽賭 大谷 還原 時間軸 說明 水原 涉賭 美國有線電視新聞網 CNN 報導 美國 ...          運動   運動\n",
       "...                                                 ...         ...  ...\n",
       "2810  奇葩 設計 大陸 這所 學校 男廁 設在 女廁 校方 轟淡定 回應 近日 學生 影片 抽水 ...          兩岸   兩岸\n",
       "2811  前妻 婚內 出軌 綠帽 悲憤 對方 父母 墳墓 遭告 法院 下場 曝光 一名 大陸 男子 情...          兩岸   兩岸\n",
       "2812  清明 連假 人潮 湧入 山東 趵突泉 寸步難行 保全 驚恐 抱柱 落水 周四 中國 清明 假...          兩岸   兩岸\n",
       "2813  缺德 大樓住戶 探照燈 整天 強光 直射 他家 崩潰 物施 擾鄰 行為 真的 香港 黃大仙 ...          兩岸   兩岸\n",
       "2814  魔音穿腦 成都 迪士尼 吵到 居民 崩潰 話題 成都 迪士尼 降熱 截稿 相關 話題 閱讀 ...          兩岸   兩岸\n",
       "\n",
       "[2815 rows x 3 columns]"
      ]
     },
     "execution_count": 143,
     "metadata": {},
     "output_type": "execute_result"
    }
   ],
   "source": [
    "ct['pred'] = y_pred\n",
    "ct.loc[:,['words', 'artCatagory',\"pred\"]]"
   ]
  },
  {
   "cell_type": "code",
   "execution_count": 144,
   "metadata": {},
   "outputs": [
    {
     "data": {
      "text/html": [
       "<div>\n",
       "<style scoped>\n",
       "    .dataframe tbody tr th:only-of-type {\n",
       "        vertical-align: middle;\n",
       "    }\n",
       "\n",
       "    .dataframe tbody tr th {\n",
       "        vertical-align: top;\n",
       "    }\n",
       "\n",
       "    .dataframe thead th {\n",
       "        text-align: right;\n",
       "    }\n",
       "</style>\n",
       "<table border=\"1\" class=\"dataframe\">\n",
       "  <thead>\n",
       "    <tr style=\"text-align: right;\">\n",
       "      <th></th>\n",
       "      <th>words</th>\n",
       "      <th>artCatagory</th>\n",
       "      <th>pred</th>\n",
       "    </tr>\n",
       "  </thead>\n",
       "  <tbody>\n",
       "    <tr>\n",
       "      <th>258</th>\n",
       "      <td>中職 兄弟 公布 談薪 凱文 遭扣 10 刷新 FA 降薪 紀錄 中信 兄弟 球季 開打 公...</td>\n",
       "      <td>運動</td>\n",
       "      <td>兩岸</td>\n",
       "    </tr>\n",
       "    <tr>\n",
       "      <th>675</th>\n",
       "      <td>籃球 Dcard 網友 爆料 林書豪 災民 貼文 隨後 移除 國旗 爭議 昨天早上 台灣 東...</td>\n",
       "      <td>運動</td>\n",
       "      <td>兩岸</td>\n",
       "    </tr>\n",
       "    <tr>\n",
       "      <th>696</th>\n",
       "      <td>廣角鏡 全中 運燃 聖火 傳遞 暌違 12 年北市 今年 月將 再度 舉辦 全中運 教育局 ...</td>\n",
       "      <td>運動</td>\n",
       "      <td>兩岸</td>\n",
       "    </tr>\n",
       "    <tr>\n",
       "      <th>780</th>\n",
       "      <td>足球 球衣 數字 酷似 納粹 黨衛軍 符號 德國隊 急換 字體 德國 足球 國家隊 新版 球...</td>\n",
       "      <td>運動</td>\n",
       "      <td>兩岸</td>\n",
       "    </tr>\n",
       "    <tr>\n",
       "      <th>781</th>\n",
       "      <td>足球 中國 足壇 貪腐 20 俱樂部 曝光 陸媒促 嚴懲 中國 足壇 反腐 系列 近日 宣判...</td>\n",
       "      <td>運動</td>\n",
       "      <td>兩岸</td>\n",
       "    </tr>\n",
       "    <tr>\n",
       "      <th>829</th>\n",
       "      <td>陸股 政策 加持 彈力 強在 中國 兩會 定調 政策 重點 發展 新質 生產力 市場 後續 ...</td>\n",
       "      <td>股市</td>\n",
       "      <td>兩岸</td>\n",
       "    </tr>\n",
       "    <tr>\n",
       "      <th>1115</th>\n",
       "      <td>大陸 官方 禁用 Intel AMD 處理器 關注 三台 題材股 英國 金融時報 FT 報導...</td>\n",
       "      <td>股市</td>\n",
       "      <td>兩岸</td>\n",
       "    </tr>\n",
       "    <tr>\n",
       "      <th>1121</th>\n",
       "      <td>轉投資 上海 芯列 中國 安全 可信 清單 威盛 漲停 中國 規範 黨政機關 公營企業 採購...</td>\n",
       "      <td>股市</td>\n",
       "      <td>兩岸</td>\n",
       "    </tr>\n",
       "    <tr>\n",
       "      <th>1122</th>\n",
       "      <td>大陸 官方 禁用 英特爾 微處理器 受惠 股飆 漲停 英國 金融時報 FT 報導 指出 北京...</td>\n",
       "      <td>股市</td>\n",
       "      <td>兩岸</td>\n",
       "    </tr>\n",
       "    <tr>\n",
       "      <th>1228</th>\n",
       "      <td>葉倫要 施壓 北京 補貼 太陽能 元晶 茂迪 盤中 不漲反跌 美國 財政部長 葉倫 27 批...</td>\n",
       "      <td>股市</td>\n",
       "      <td>兩岸</td>\n",
       "    </tr>\n",
       "    <tr>\n",
       "      <th>1303</th>\n",
       "      <td>推動 公益 凱基 證券 十年 助偏 學童 英語 學習 凱基 證券 捐助 凱基 慈善 基金會 ...</td>\n",
       "      <td>股市</td>\n",
       "      <td>兩岸</td>\n",
       "    </tr>\n",
       "    <tr>\n",
       "      <th>1372</th>\n",
       "      <td>巴黎 奧運 下半年 登場 運動 概念股 業績 看旺 法國巴黎 奧運 將在 登場 一度 奧運 ...</td>\n",
       "      <td>股市</td>\n",
       "      <td>運動</td>\n",
       "    </tr>\n",
       "    <tr>\n",
       "      <th>1409</th>\n",
       "      <td>中國 A50 指數 挑戰 關鍵 反壓 位置 關注 銀行 業績 中國 A50 指數 最近 創下...</td>\n",
       "      <td>股市</td>\n",
       "      <td>兩岸</td>\n",
       "    </tr>\n",
       "    <tr>\n",
       "      <th>1450</th>\n",
       "      <td>陸鋼市 不妙 台廠 有壓 鋼價 慘跌 2002 專家 表示 大陸 鋼市 快速 下行 出現 產...</td>\n",
       "      <td>股市</td>\n",
       "      <td>兩岸</td>\n",
       "    </tr>\n",
       "    <tr>\n",
       "      <th>1611</th>\n",
       "      <td>聯電 處分 股權 聯電 2303 公告 子公司 芯片 製造 蘇州 股份 有限公司 公告 處分...</td>\n",
       "      <td>股市</td>\n",
       "      <td>兩岸</td>\n",
       "    </tr>\n",
       "    <tr>\n",
       "      <th>1638</th>\n",
       "      <td>鋼廠 營運 正向 訊號 中國 大陸 救鋼市 層級 持續 拉升 傳出 大陸 中央 發改委 工信...</td>\n",
       "      <td>股市</td>\n",
       "      <td>兩岸</td>\n",
       "    </tr>\n",
       "    <tr>\n",
       "      <th>1726</th>\n",
       "      <td>轉投資 香港 賽生 醫藥 33.9% 溢價 收購 私有化 4123 轉投資 香港 創新 醫藥...</td>\n",
       "      <td>股市</td>\n",
       "      <td>兩岸</td>\n",
       "    </tr>\n",
       "    <tr>\n",
       "      <th>1828</th>\n",
       "      <td>期交所 縱橫 期海 大專院校 模擬 交易 競賽 日起 接受 報名 校園 年輕人 增進 期貨 ...</td>\n",
       "      <td>股市</td>\n",
       "      <td>運動</td>\n",
       "    </tr>\n",
       "    <tr>\n",
       "      <th>1829</th>\n",
       "      <td>期交所 2024 大專院校 模擬 交易 競賽 日起 接受 報名 臺灣 期貨 交易所 校園 年...</td>\n",
       "      <td>股市</td>\n",
       "      <td>運動</td>\n",
       "    </tr>\n",
       "    <tr>\n",
       "      <th>1830</th>\n",
       "      <td>期貨 模擬 交易 校園 年輕人 增進 期貨 專業知識 瞭解 交易 風險 控管 重要性 期交所...</td>\n",
       "      <td>股市</td>\n",
       "      <td>運動</td>\n",
       "    </tr>\n",
       "    <tr>\n",
       "      <th>2237</th>\n",
       "      <td>中國 終於 贏了 預賽 亞洲區 新加坡 預賽 亞洲區 36 強賽 第四輪 26 全面 中國男...</td>\n",
       "      <td>兩岸</td>\n",
       "      <td>運動</td>\n",
       "    </tr>\n",
       "    <tr>\n",
       "      <th>2387</th>\n",
       "      <td>歡樂 七欖 球迷 氣氛 去年 首日 入座 75% 去年 香港 國際 七人欖 球賽 最後 一年...</td>\n",
       "      <td>兩岸</td>\n",
       "      <td>運動</td>\n",
       "    </tr>\n",
       "    <tr>\n",
       "      <th>2391</th>\n",
       "      <td>20 客隊 全勤 球迷 癌逝 北京國安 足球隊 永久 封存 座位 北京 工人體育場 綠色 觀...</td>\n",
       "      <td>兩岸</td>\n",
       "      <td>運動</td>\n",
       "    </tr>\n",
       "    <tr>\n",
       "      <th>2405</th>\n",
       "      <td>投行 大陸 公告 台資 銀行 大陸 業務 影響 分析 銀行 外匯業務 展業 管理 辦法 試行...</td>\n",
       "      <td>兩岸</td>\n",
       "      <td>股市</td>\n",
       "    </tr>\n",
       "    <tr>\n",
       "      <th>2450</th>\n",
       "      <td>博鰲 2024 報告 預測 亞洲 經濟體 GPD 成長率 4.5% 博鰲 亞洲 論壇 202...</td>\n",
       "      <td>兩岸</td>\n",
       "      <td>股市</td>\n",
       "    </tr>\n",
       "    <tr>\n",
       "      <th>2485</th>\n",
       "      <td>樓價 連跌 10 今年 下跌 5% 以內 租金 續升 5% 8% 樓市 上月底 全面 撤辣 ...</td>\n",
       "      <td>兩岸</td>\n",
       "      <td>股市</td>\n",
       "    </tr>\n",
       "    <tr>\n",
       "      <th>2500</th>\n",
       "      <td>滬指 再度 失守 000 大關 繼續 探底 可能性 仍高 A股 三大 指數 27 日開 走低...</td>\n",
       "      <td>兩岸</td>\n",
       "      <td>股市</td>\n",
       "    </tr>\n",
       "    <tr>\n",
       "      <th>2513</th>\n",
       "      <td>低迷 陸股 驚現 連飆 14 漲停板 妖股 竟是 企陸股 持續 低迷 滬指 27 再度 跌破...</td>\n",
       "      <td>兩岸</td>\n",
       "      <td>股市</td>\n",
       "    </tr>\n",
       "    <tr>\n",
       "      <th>2526</th>\n",
       "      <td>中芯 去年 獲利 腰斬 今年 資本 支出 不減 75 億美元 大陸 晶圓 代工 龍頭 中芯 ...</td>\n",
       "      <td>兩岸</td>\n",
       "      <td>股市</td>\n",
       "    </tr>\n",
       "    <tr>\n",
       "      <th>2532</th>\n",
       "      <td>國家隊 狂買 ETF 滬股 反攻大陸 國家隊 持續 進場 大買 指數 股票 型基金 ETF ...</td>\n",
       "      <td>兩岸</td>\n",
       "      <td>股市</td>\n",
       "    </tr>\n",
       "    <tr>\n",
       "      <th>2540</th>\n",
       "      <td>中芯 去年 淨利 腰斬 大陸 晶圓 代工 龍頭 中芯 國際 發布 2023 年度 財報 營收...</td>\n",
       "      <td>兩岸</td>\n",
       "      <td>股市</td>\n",
       "    </tr>\n",
       "    <tr>\n",
       "      <th>2643</th>\n",
       "      <td>大陸 金價 再創新高 黃金 ETF 漲停 市場 淘金熱 再度 推高 大陸 黃金 ETF 行情...</td>\n",
       "      <td>兩岸</td>\n",
       "      <td>股市</td>\n",
       "    </tr>\n",
       "  </tbody>\n",
       "</table>\n",
       "</div>"
      ],
      "text/plain": [
       "                                                  words artCatagory pred\n",
       "258   中職 兄弟 公布 談薪 凱文 遭扣 10 刷新 FA 降薪 紀錄 中信 兄弟 球季 開打 公...          運動   兩岸\n",
       "675   籃球 Dcard 網友 爆料 林書豪 災民 貼文 隨後 移除 國旗 爭議 昨天早上 台灣 東...          運動   兩岸\n",
       "696   廣角鏡 全中 運燃 聖火 傳遞 暌違 12 年北市 今年 月將 再度 舉辦 全中運 教育局 ...          運動   兩岸\n",
       "780   足球 球衣 數字 酷似 納粹 黨衛軍 符號 德國隊 急換 字體 德國 足球 國家隊 新版 球...          運動   兩岸\n",
       "781   足球 中國 足壇 貪腐 20 俱樂部 曝光 陸媒促 嚴懲 中國 足壇 反腐 系列 近日 宣判...          運動   兩岸\n",
       "829   陸股 政策 加持 彈力 強在 中國 兩會 定調 政策 重點 發展 新質 生產力 市場 後續 ...          股市   兩岸\n",
       "1115  大陸 官方 禁用 Intel AMD 處理器 關注 三台 題材股 英國 金融時報 FT 報導...          股市   兩岸\n",
       "1121  轉投資 上海 芯列 中國 安全 可信 清單 威盛 漲停 中國 規範 黨政機關 公營企業 採購...          股市   兩岸\n",
       "1122  大陸 官方 禁用 英特爾 微處理器 受惠 股飆 漲停 英國 金融時報 FT 報導 指出 北京...          股市   兩岸\n",
       "1228  葉倫要 施壓 北京 補貼 太陽能 元晶 茂迪 盤中 不漲反跌 美國 財政部長 葉倫 27 批...          股市   兩岸\n",
       "1303  推動 公益 凱基 證券 十年 助偏 學童 英語 學習 凱基 證券 捐助 凱基 慈善 基金會 ...          股市   兩岸\n",
       "1372  巴黎 奧運 下半年 登場 運動 概念股 業績 看旺 法國巴黎 奧運 將在 登場 一度 奧運 ...          股市   運動\n",
       "1409  中國 A50 指數 挑戰 關鍵 反壓 位置 關注 銀行 業績 中國 A50 指數 最近 創下...          股市   兩岸\n",
       "1450  陸鋼市 不妙 台廠 有壓 鋼價 慘跌 2002 專家 表示 大陸 鋼市 快速 下行 出現 產...          股市   兩岸\n",
       "1611  聯電 處分 股權 聯電 2303 公告 子公司 芯片 製造 蘇州 股份 有限公司 公告 處分...          股市   兩岸\n",
       "1638  鋼廠 營運 正向 訊號 中國 大陸 救鋼市 層級 持續 拉升 傳出 大陸 中央 發改委 工信...          股市   兩岸\n",
       "1726  轉投資 香港 賽生 醫藥 33.9% 溢價 收購 私有化 4123 轉投資 香港 創新 醫藥...          股市   兩岸\n",
       "1828  期交所 縱橫 期海 大專院校 模擬 交易 競賽 日起 接受 報名 校園 年輕人 增進 期貨 ...          股市   運動\n",
       "1829  期交所 2024 大專院校 模擬 交易 競賽 日起 接受 報名 臺灣 期貨 交易所 校園 年...          股市   運動\n",
       "1830  期貨 模擬 交易 校園 年輕人 增進 期貨 專業知識 瞭解 交易 風險 控管 重要性 期交所...          股市   運動\n",
       "2237  中國 終於 贏了 預賽 亞洲區 新加坡 預賽 亞洲區 36 強賽 第四輪 26 全面 中國男...          兩岸   運動\n",
       "2387  歡樂 七欖 球迷 氣氛 去年 首日 入座 75% 去年 香港 國際 七人欖 球賽 最後 一年...          兩岸   運動\n",
       "2391  20 客隊 全勤 球迷 癌逝 北京國安 足球隊 永久 封存 座位 北京 工人體育場 綠色 觀...          兩岸   運動\n",
       "2405  投行 大陸 公告 台資 銀行 大陸 業務 影響 分析 銀行 外匯業務 展業 管理 辦法 試行...          兩岸   股市\n",
       "2450  博鰲 2024 報告 預測 亞洲 經濟體 GPD 成長率 4.5% 博鰲 亞洲 論壇 202...          兩岸   股市\n",
       "2485  樓價 連跌 10 今年 下跌 5% 以內 租金 續升 5% 8% 樓市 上月底 全面 撤辣 ...          兩岸   股市\n",
       "2500  滬指 再度 失守 000 大關 繼續 探底 可能性 仍高 A股 三大 指數 27 日開 走低...          兩岸   股市\n",
       "2513  低迷 陸股 驚現 連飆 14 漲停板 妖股 竟是 企陸股 持續 低迷 滬指 27 再度 跌破...          兩岸   股市\n",
       "2526  中芯 去年 獲利 腰斬 今年 資本 支出 不減 75 億美元 大陸 晶圓 代工 龍頭 中芯 ...          兩岸   股市\n",
       "2532  國家隊 狂買 ETF 滬股 反攻大陸 國家隊 持續 進場 大買 指數 股票 型基金 ETF ...          兩岸   股市\n",
       "2540  中芯 去年 淨利 腰斬 大陸 晶圓 代工 龍頭 中芯 國際 發布 2023 年度 財報 營收...          兩岸   股市\n",
       "2643  大陸 金價 再創新高 黃金 ETF 漲停 市場 淘金熱 再度 推高 大陸 黃金 ETF 行情...          兩岸   股市"
      ]
     },
     "execution_count": 144,
     "metadata": {},
     "output_type": "execute_result"
    }
   ],
   "source": [
    "false_pred = ct.query(\"artCatagory != pred\").loc[:,['words', 'artCatagory',\"pred\"]]\n",
    "false_pred"
   ]
  },
  {
   "cell_type": "code",
   "execution_count": 145,
   "metadata": {},
   "outputs": [
    {
     "data": {
      "text/html": [
       "<div>\n",
       "<style scoped>\n",
       "    .dataframe tbody tr th:only-of-type {\n",
       "        vertical-align: middle;\n",
       "    }\n",
       "\n",
       "    .dataframe tbody tr th {\n",
       "        vertical-align: top;\n",
       "    }\n",
       "\n",
       "    .dataframe thead th {\n",
       "        text-align: right;\n",
       "    }\n",
       "</style>\n",
       "<table border=\"1\" class=\"dataframe\">\n",
       "  <thead>\n",
       "    <tr style=\"text-align: right;\">\n",
       "      <th></th>\n",
       "      <th>words</th>\n",
       "      <th>artCatagory</th>\n",
       "      <th>pred</th>\n",
       "    </tr>\n",
       "  </thead>\n",
       "  <tbody>\n",
       "    <tr>\n",
       "      <th>829</th>\n",
       "      <td>陸股 政策 加持 彈力 強在 中國 兩會 定調 政策 重點 發展 新質 生產力 市場 後續 ...</td>\n",
       "      <td>股市</td>\n",
       "      <td>兩岸</td>\n",
       "    </tr>\n",
       "    <tr>\n",
       "      <th>1115</th>\n",
       "      <td>大陸 官方 禁用 Intel AMD 處理器 關注 三台 題材股 英國 金融時報 FT 報導...</td>\n",
       "      <td>股市</td>\n",
       "      <td>兩岸</td>\n",
       "    </tr>\n",
       "    <tr>\n",
       "      <th>1121</th>\n",
       "      <td>轉投資 上海 芯列 中國 安全 可信 清單 威盛 漲停 中國 規範 黨政機關 公營企業 採購...</td>\n",
       "      <td>股市</td>\n",
       "      <td>兩岸</td>\n",
       "    </tr>\n",
       "    <tr>\n",
       "      <th>1122</th>\n",
       "      <td>大陸 官方 禁用 英特爾 微處理器 受惠 股飆 漲停 英國 金融時報 FT 報導 指出 北京...</td>\n",
       "      <td>股市</td>\n",
       "      <td>兩岸</td>\n",
       "    </tr>\n",
       "    <tr>\n",
       "      <th>1228</th>\n",
       "      <td>葉倫要 施壓 北京 補貼 太陽能 元晶 茂迪 盤中 不漲反跌 美國 財政部長 葉倫 27 批...</td>\n",
       "      <td>股市</td>\n",
       "      <td>兩岸</td>\n",
       "    </tr>\n",
       "    <tr>\n",
       "      <th>1303</th>\n",
       "      <td>推動 公益 凱基 證券 十年 助偏 學童 英語 學習 凱基 證券 捐助 凱基 慈善 基金會 ...</td>\n",
       "      <td>股市</td>\n",
       "      <td>兩岸</td>\n",
       "    </tr>\n",
       "    <tr>\n",
       "      <th>1372</th>\n",
       "      <td>巴黎 奧運 下半年 登場 運動 概念股 業績 看旺 法國巴黎 奧運 將在 登場 一度 奧運 ...</td>\n",
       "      <td>股市</td>\n",
       "      <td>運動</td>\n",
       "    </tr>\n",
       "    <tr>\n",
       "      <th>1409</th>\n",
       "      <td>中國 A50 指數 挑戰 關鍵 反壓 位置 關注 銀行 業績 中國 A50 指數 最近 創下...</td>\n",
       "      <td>股市</td>\n",
       "      <td>兩岸</td>\n",
       "    </tr>\n",
       "    <tr>\n",
       "      <th>1450</th>\n",
       "      <td>陸鋼市 不妙 台廠 有壓 鋼價 慘跌 2002 專家 表示 大陸 鋼市 快速 下行 出現 產...</td>\n",
       "      <td>股市</td>\n",
       "      <td>兩岸</td>\n",
       "    </tr>\n",
       "    <tr>\n",
       "      <th>1611</th>\n",
       "      <td>聯電 處分 股權 聯電 2303 公告 子公司 芯片 製造 蘇州 股份 有限公司 公告 處分...</td>\n",
       "      <td>股市</td>\n",
       "      <td>兩岸</td>\n",
       "    </tr>\n",
       "    <tr>\n",
       "      <th>1638</th>\n",
       "      <td>鋼廠 營運 正向 訊號 中國 大陸 救鋼市 層級 持續 拉升 傳出 大陸 中央 發改委 工信...</td>\n",
       "      <td>股市</td>\n",
       "      <td>兩岸</td>\n",
       "    </tr>\n",
       "    <tr>\n",
       "      <th>1726</th>\n",
       "      <td>轉投資 香港 賽生 醫藥 33.9% 溢價 收購 私有化 4123 轉投資 香港 創新 醫藥...</td>\n",
       "      <td>股市</td>\n",
       "      <td>兩岸</td>\n",
       "    </tr>\n",
       "    <tr>\n",
       "      <th>1828</th>\n",
       "      <td>期交所 縱橫 期海 大專院校 模擬 交易 競賽 日起 接受 報名 校園 年輕人 增進 期貨 ...</td>\n",
       "      <td>股市</td>\n",
       "      <td>運動</td>\n",
       "    </tr>\n",
       "    <tr>\n",
       "      <th>1829</th>\n",
       "      <td>期交所 2024 大專院校 模擬 交易 競賽 日起 接受 報名 臺灣 期貨 交易所 校園 年...</td>\n",
       "      <td>股市</td>\n",
       "      <td>運動</td>\n",
       "    </tr>\n",
       "    <tr>\n",
       "      <th>1830</th>\n",
       "      <td>期貨 模擬 交易 校園 年輕人 增進 期貨 專業知識 瞭解 交易 風險 控管 重要性 期交所...</td>\n",
       "      <td>股市</td>\n",
       "      <td>運動</td>\n",
       "    </tr>\n",
       "  </tbody>\n",
       "</table>\n",
       "</div>"
      ],
      "text/plain": [
       "                                                  words artCatagory pred\n",
       "829   陸股 政策 加持 彈力 強在 中國 兩會 定調 政策 重點 發展 新質 生產力 市場 後續 ...          股市   兩岸\n",
       "1115  大陸 官方 禁用 Intel AMD 處理器 關注 三台 題材股 英國 金融時報 FT 報導...          股市   兩岸\n",
       "1121  轉投資 上海 芯列 中國 安全 可信 清單 威盛 漲停 中國 規範 黨政機關 公營企業 採購...          股市   兩岸\n",
       "1122  大陸 官方 禁用 英特爾 微處理器 受惠 股飆 漲停 英國 金融時報 FT 報導 指出 北京...          股市   兩岸\n",
       "1228  葉倫要 施壓 北京 補貼 太陽能 元晶 茂迪 盤中 不漲反跌 美國 財政部長 葉倫 27 批...          股市   兩岸\n",
       "1303  推動 公益 凱基 證券 十年 助偏 學童 英語 學習 凱基 證券 捐助 凱基 慈善 基金會 ...          股市   兩岸\n",
       "1372  巴黎 奧運 下半年 登場 運動 概念股 業績 看旺 法國巴黎 奧運 將在 登場 一度 奧運 ...          股市   運動\n",
       "1409  中國 A50 指數 挑戰 關鍵 反壓 位置 關注 銀行 業績 中國 A50 指數 最近 創下...          股市   兩岸\n",
       "1450  陸鋼市 不妙 台廠 有壓 鋼價 慘跌 2002 專家 表示 大陸 鋼市 快速 下行 出現 產...          股市   兩岸\n",
       "1611  聯電 處分 股權 聯電 2303 公告 子公司 芯片 製造 蘇州 股份 有限公司 公告 處分...          股市   兩岸\n",
       "1638  鋼廠 營運 正向 訊號 中國 大陸 救鋼市 層級 持續 拉升 傳出 大陸 中央 發改委 工信...          股市   兩岸\n",
       "1726  轉投資 香港 賽生 醫藥 33.9% 溢價 收購 私有化 4123 轉投資 香港 創新 醫藥...          股市   兩岸\n",
       "1828  期交所 縱橫 期海 大專院校 模擬 交易 競賽 日起 接受 報名 校園 年輕人 增進 期貨 ...          股市   運動\n",
       "1829  期交所 2024 大專院校 模擬 交易 競賽 日起 接受 報名 臺灣 期貨 交易所 校園 年...          股市   運動\n",
       "1830  期貨 模擬 交易 校園 年輕人 增進 期貨 專業知識 瞭解 交易 風險 控管 重要性 期交所...          股市   運動"
      ]
     },
     "execution_count": 145,
     "metadata": {},
     "output_type": "execute_result"
    }
   ],
   "source": [
    "false_pred.loc[false_pred['artCatagory']=='股市', :].head(50)"
   ]
  },
  {
   "cell_type": "code",
   "execution_count": 149,
   "metadata": {},
   "outputs": [
    {
     "data": {
      "text/plain": [
       "words          巴黎 奧運 下半年 登場 運動 概念股 業績 看旺 法國巴黎 奧運 將在 登場 一度 奧運 ...\n",
       "artCatagory                                                   股市\n",
       "pred                                                          運動\n",
       "Name: 1372, dtype: object"
      ]
     },
     "execution_count": 149,
     "metadata": {},
     "output_type": "execute_result"
    }
   ],
   "source": [
    "false_pred.loc[1372, :]"
   ]
  },
  {
   "cell_type": "code",
   "execution_count": 151,
   "metadata": {},
   "outputs": [
    {
     "name": "stdout",
     "output_type": "stream",
     "text": [
      "('巴黎 奧運 下半年 登場 運動 概念股 業績 看旺 法國巴黎 奧運 將在 登場 一度 奧運 概念股 再次 成為 市場 題材 包括 觀賞 賽事 電視 螢幕 '\n",
      " '面板 運動員 機能性 運動服 運動鞋 材料 製造商 運動 品牌 運動 明星 周邊 商品 商機 成為 市場 關注 焦點 奧運 賽事 賽者 穿著 代言 品牌 '\n",
      " '運動鞋 運動服 帶動 耐吉 Nike 愛迪達 adidas 國際品牌 銷量 國內 運動鞋 代工廠 寶成 豐泰 鈺齊 KY 志強 KY 受惠 運動鞋 製造 '\n",
      " '大廠 寶成 為例 2012 英國倫敦 奧運 當年 每股 盈餘 3.47 2011 2.01 大幅 成長 72% 2016 巴西 奧運 當年 每股 盈餘 '\n",
      " '4.43 2015 3.24 成長 36% 2021 日本 東京 奧運 每股 盈餘 4.9 2020 1.64 大幅 成長 1.98 疫情 影響 因素 '\n",
      " '奧運 賽事 帶來 需求 商機 影響 相對 明顯 法人 指出 疫情 期間 保持 安全 社交 距離 帶動 電視 筆電 液晶 顯示器 需求 東京 奧運 電視 '\n",
      " '螢幕 觀賞 賽事 需求 升至 高峰 今年 舉行 巴黎 奧運 是否 一波 觀賞 賽事 需求 有待 觀察 面板 雙虎 友達 群創 於今 舉行 巴黎 奧運 '\n",
      " '歐洲盃 足球賽 寄予厚望 法人 說明會 公開場合 表達 期盼 透過 螢幕 觀賞 賽事 需求 促進 面板 銷量 紡織業 儒鴻 聚陽 兩大 成衣廠 國際 '\n",
      " '知名品牌 代工 成為 熱門 奧運 概念股 兆豐 國際 投顧 副總經理 黃國 表示 奧運 概念股 主要 大型 運動 賽事 帶動 消費 題材 搭配 國際 '\n",
      " '知名 運動 品牌 強大 國際 行銷 操作 代工廠 成為 投資 市場 關注 熱門 標的 華南 投顧 董事長 儲祥生 認為 人工智慧 AI 概念股 熱門 '\n",
      " '奧運 概念股 表現 變成 插曲 AI 概念股 休息 墊檔 成為 台股 主軸 儲祥生 指出 投資人 鎖定 奧運 概念股 電視 面板 運動鞋 製造 運動服 '\n",
      " '紡織廠 股價 位階 決定 是否 奧運 題材 有所 表現 重要 因素')\n"
     ]
    }
   ],
   "source": [
    "pprint(false_pred['words'][1372])"
   ]
  },
  {
   "attachments": {},
   "cell_type": "markdown",
   "metadata": {},
   "source": [
    "模型對另一個新聞網的預測結果比較普通。可以看到兩岸的 precision 與 recall 都相對低，從預測結果來看，可以發現東森新聞的「全球」類別，也常常會報導中國的資訊，因為出現中國、大陸等字樣，使模型預測成「兩岸」。"
   ]
  },
  {
   "attachments": {},
   "cell_type": "markdown",
   "metadata": {},
   "source": [
    "* accuracy可能會因為資料分布不同而有所偏差，所以評估模型的時候，可以加入一起 F1-score, recall, precision, AUC 等常見分類任務指標來評估。"
   ]
  }
 ],
 "metadata": {
  "kernelspec": {
   "display_name": "Python 3",
   "language": "python",
   "name": "python3"
  },
  "language_info": {
   "codemirror_mode": {
    "name": "ipython",
    "version": 3
   },
   "file_extension": ".py",
   "mimetype": "text/x-python",
   "name": "python",
   "nbconvert_exporter": "python",
   "pygments_lexer": "ipython3",
   "version": "3.7.12"
  }
 },
 "nbformat": 4,
 "nbformat_minor": 4
}
